{
 "cells": [
  {
   "cell_type": "markdown",
   "metadata": {},
   "source": [
    "## Bond Portfolio Json"
   ]
  },
  {
   "cell_type": "code",
   "execution_count": 46,
   "metadata": {},
   "outputs": [],
   "source": [
    "import json\n",
    "import datetime\n",
    "\n",
    "with open('../tests/test_data/bondcurve_portfolio.json') as json_data:\n",
    "    bonds = json.load(json_data)\n",
    "    json_data.close()"
   ]
  },
  {
   "cell_type": "code",
   "execution_count": 47,
   "metadata": {},
   "outputs": [
    {
     "data": {
      "text/plain": [
       "{'CouponFrequency': 'Semiannual',\n",
       " 'CouponRate': 3.625,\n",
       " 'CurrentNotional': 1.0,\n",
       " 'MaturityDate': '2025-06-15',\n",
       " 'CouponTypes': 'Fixed Coupon',\n",
       " 'DirtyPrice': 97.45796188119483,\n",
       " 'AmountOutstanding': 500000000.0,\n",
       " 'CouponStartDate': '30/360'}"
      ]
     },
     "execution_count": 47,
     "metadata": {},
     "output_type": "execute_result"
    }
   ],
   "source": [
    "bonds['bond1']"
   ]
  },
  {
   "cell_type": "code",
   "execution_count": 41,
   "metadata": {},
   "outputs": [],
   "source": [
    "res = list()\n",
    "for y, m, d, r in parse_file('../tests/test_data/discount_curve_rates_20231009.txt'):\n",
    "    try:\n",
    "        assert r <= 0.06\n",
    "        assert d < 15\n",
    "        res.append((datetime.date(y, m, d), r))\n",
    "    except:\n",
    "        print(y, m, d, r)"
   ]
  },
  {
   "cell_type": "code",
   "execution_count": 42,
   "metadata": {},
   "outputs": [],
   "source": [
    "import pickle\n",
    "import datetime\n",
    "\n",
    "def store_data(data, pickle_file_path, text_file_path):\n",
    "    # Store data in a pickle file\n",
    "    with open(pickle_file_path, 'wb') as f:\n",
    "        pickle.dump(data, f)\n",
    "    \n",
    "    # Store data in a text file\n",
    "    with open(text_file_path, 'w') as f:\n",
    "        for date, value in data:\n",
    "            f.write(f'({date}, {value})\\n')"
   ]
  },
  {
   "cell_type": "code",
   "execution_count": 43,
   "metadata": {},
   "outputs": [],
   "source": [
    "store_data(res,\n",
    "           pickle_file_path='../tests/test_data/discount_curve_rates_20231009.pickle',\n",
    "           text_file_path='../tests/test_data/discount_curve_rates_20231009.csv')"
   ]
  },
  {
   "cell_type": "code",
   "execution_count": 48,
   "metadata": {},
   "outputs": [],
   "source": [
    "with open('../tests/test_data/discount_curve_rates_20231009.pickle', 'rb') as f:\n",
    "    data = pickle.load(f)"
   ]
  },
  {
   "cell_type": "code",
   "execution_count": null,
   "metadata": {},
   "outputs": [],
   "source": [
    "data"
   ]
  },
  {
   "cell_type": "code",
   "execution_count": 67,
   "metadata": {},
   "outputs": [],
   "source": [
    "import numpy as np"
   ]
  },
  {
   "cell_type": "code",
   "execution_count": 81,
   "metadata": {},
   "outputs": [
    {
     "name": "stdout",
     "output_type": "stream",
     "text": [
      "2.69 µs ± 228 ns per loop (mean ± std. dev. of 7 runs, 100,000 loops each)\n"
     ]
    }
   ],
   "source": [
    "%timeit _, _ = zip(*data)"
   ]
  },
  {
   "cell_type": "code",
   "execution_count": 74,
   "metadata": {},
   "outputs": [
    {
     "name": "stdout",
     "output_type": "stream",
     "text": [
      "5.92 µs ± 142 ns per loop (mean ± std. dev. of 7 runs, 100,000 loops each)\n"
     ]
    }
   ],
   "source": [
    "%timeit _ = list(map(lambda x: x[0], data))"
   ]
  },
  {
   "cell_type": "code",
   "execution_count": 75,
   "metadata": {},
   "outputs": [
    {
     "name": "stdout",
     "output_type": "stream",
     "text": [
      "3.12 µs ± 96.3 ns per loop (mean ± std. dev. of 7 runs, 100,000 loops each)\n"
     ]
    }
   ],
   "source": [
    "%timeit _ = [x[0] for x in data]"
   ]
  },
  {
   "cell_type": "code",
   "execution_count": 69,
   "metadata": {},
   "outputs": [],
   "source": [
    "import multiprocessing\n",
    "from operator import itemgetter\n",
    "\n",
    "def parallel_extract_first_column(data):\n",
    "    with multiprocessing.Pool() as pool:\n",
    "        first_column = pool.map(itemgetter(0), data)\n",
    "    return first_column"
   ]
  },
  {
   "cell_type": "code",
   "execution_count": 76,
   "metadata": {},
   "outputs": [
    {
     "name": "stdout",
     "output_type": "stream",
     "text": [
      "145 ms ± 6.9 ms per loop (mean ± std. dev. of 7 runs, 10 loops each)\n"
     ]
    }
   ],
   "source": [
    "%timeit _ = parallel_extract_first_column(data)"
   ]
  },
  {
   "cell_type": "code",
   "execution_count": 77,
   "metadata": {},
   "outputs": [
    {
     "name": "stdout",
     "output_type": "stream",
     "text": [
      "3.23 µs ± 68.6 ns per loop (mean ± std. dev. of 7 runs, 100,000 loops each)\n"
     ]
    }
   ],
   "source": [
    "%timeit _ = list(map(itemgetter(0), data))"
   ]
  }
 ],
 "metadata": {
  "kernelspec": {
   "display_name": "finpricing_dev",
   "language": "python",
   "name": "python3"
  },
  "language_info": {
   "codemirror_mode": {
    "name": "ipython",
    "version": 3
   },
   "file_extension": ".py",
   "mimetype": "text/x-python",
   "name": "python",
   "nbconvert_exporter": "python",
   "pygments_lexer": "ipython3",
   "version": "3.9.18"
  }
 },
 "nbformat": 4,
 "nbformat_minor": 2
}
