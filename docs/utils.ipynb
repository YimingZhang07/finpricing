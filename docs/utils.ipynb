{
 "cells": [
  {
   "cell_type": "markdown",
   "metadata": {},
   "source": [
    "## Load the private key from the file"
   ]
  },
  {
   "cell_type": "code",
   "execution_count": 54,
   "metadata": {},
   "outputs": [],
   "source": [
    "import os\n",
    "import yaml\n",
    "import base64\n",
    "import pickle\n",
    "import json\n",
    "from cryptography.hazmat.primitives import hashes\n",
    "from cryptography.hazmat.backends import default_backend\n",
    "from cryptography.hazmat.primitives.kdf.pbkdf2 import PBKDF2HMAC\n",
    "from cryptography.fernet import Fernet"
   ]
  },
  {
   "cell_type": "code",
   "execution_count": 8,
   "metadata": {},
   "outputs": [],
   "source": [
    "script_dir = os.getcwd()\n",
    "parent_dir = os.path.dirname(script_dir)\n",
    "private_params_path = os.path.join(parent_dir, 'private_params.yml')"
   ]
  },
  {
   "cell_type": "code",
   "execution_count": 157,
   "metadata": {},
   "outputs": [],
   "source": [
    "with open(private_params_path, 'r') as file:\n",
    "    private_params = yaml.safe_load(file)"
   ]
  },
  {
   "cell_type": "code",
   "execution_count": 158,
   "metadata": {},
   "outputs": [
    {
     "data": {
      "text/plain": [
       "{'testing_data_pwd': '151678', 'testing_data_salt': 'finpricing'}"
      ]
     },
     "execution_count": 158,
     "metadata": {},
     "output_type": "execute_result"
    }
   ],
   "source": [
    "private_params"
   ]
  },
  {
   "cell_type": "markdown",
   "metadata": {},
   "source": [
    "## Utility functions"
   ]
  },
  {
   "cell_type": "code",
   "execution_count": 152,
   "metadata": {},
   "outputs": [],
   "source": [
    "def generate_key_from_password(password, salt_str):\n",
    "    if not isinstance(password, str):\n",
    "        raise TypeError('Password must be a string')\n",
    "    if not isinstance(salt_str, str):\n",
    "        raise TypeError('Salt must be a string.')\n",
    "    salt = salt_str.encode()\n",
    "    kdf = PBKDF2HMAC(\n",
    "        algorithm=hashes.SHA256(),\n",
    "        length=32,\n",
    "        salt=salt,\n",
    "        iterations=100000,\n",
    "        backend=default_backend()\n",
    "    )\n",
    "    key = base64.urlsafe_b64encode(kdf.derive(password.encode()))\n",
    "    return key"
   ]
  },
  {
   "cell_type": "code",
   "execution_count": 125,
   "metadata": {},
   "outputs": [],
   "source": [
    "def encrypt_data_with_key(data: str | bytes, key: bytes):\n",
    "    if not isinstance(data, str) and not isinstance(data, bytes):\n",
    "        raise TypeError('Data must be a string / bytes')\n",
    "    if isinstance(data, str):\n",
    "        data = data.encode()\n",
    "    cipher_suite = Fernet(key)\n",
    "    encrypted_data = cipher_suite.encrypt(data)\n",
    "    return encrypted_data"
   ]
  },
  {
   "cell_type": "code",
   "execution_count": 126,
   "metadata": {},
   "outputs": [],
   "source": [
    "def store_encrypted_data(encrypted_data, file_path):\n",
    "    if not isinstance(encrypted_data, bytes):\n",
    "        raise TypeError('Encrypted data must be bytes')\n",
    "    if not isinstance(file_path, str):\n",
    "        raise TypeError('File path must be a string')\n",
    "    with open(file_path, 'wb') as file:\n",
    "        pickle.dump(encrypted_data, file)"
   ]
  },
  {
   "cell_type": "code",
   "execution_count": 127,
   "metadata": {},
   "outputs": [],
   "source": [
    "def load_and_decrypt_data(file_path, key):\n",
    "    if not isinstance(file_path, str):\n",
    "        raise TypeError('File path must be a string')\n",
    "    if not isinstance(key, bytes):\n",
    "        raise TypeError('Key must be bytes')\n",
    "    with open(file_path, 'rb') as file:\n",
    "        encrypted_data = pickle.load(file)\n",
    "    cipher_suite = Fernet(key)\n",
    "    decrypted_data = cipher_suite.decrypt(encrypted_data)\n",
    "    assert isinstance(decrypted_data, bytes), \"Decrypted data must be bytes, and then loaded by pickle\"\n",
    "    return pickle.loads(decrypted_data)"
   ]
  },
  {
   "cell_type": "code",
   "execution_count": 164,
   "metadata": {},
   "outputs": [],
   "source": [
    "key = generate_key_from_password(private_params['testing_data_pwd'], private_params['testing_data_salt'])"
   ]
  },
  {
   "cell_type": "markdown",
   "metadata": {},
   "source": [
    "## Encrypt the message"
   ]
  },
  {
   "cell_type": "code",
   "execution_count": 179,
   "metadata": {},
   "outputs": [],
   "source": [
    "testing_data_path = os.path.join(parent_dir, 'tests/testing_data')\n",
    "file_path = os.path.join(testing_data_path, 'bondcurve_portfolio.json')"
   ]
  },
  {
   "cell_type": "code",
   "execution_count": 180,
   "metadata": {},
   "outputs": [],
   "source": [
    "with open(file_path, 'rb') as file:\n",
    "    discount_curve = json.load(file)"
   ]
  },
  {
   "cell_type": "code",
   "execution_count": 181,
   "metadata": {},
   "outputs": [],
   "source": [
    "pickled_data = pickle.dumps(discount_curve)"
   ]
  },
  {
   "cell_type": "code",
   "execution_count": 182,
   "metadata": {},
   "outputs": [],
   "source": [
    "encrypted_data = encrypt_data_with_key(pickled_data, key)"
   ]
  },
  {
   "cell_type": "code",
   "execution_count": 183,
   "metadata": {},
   "outputs": [],
   "source": [
    "store_encrypted_data(encrypted_data, os.path.join(testing_data_path, 'bondcurve_portfolio_20231009.pkl'))"
   ]
  },
  {
   "cell_type": "code",
   "execution_count": 184,
   "metadata": {},
   "outputs": [],
   "source": [
    "loaded = load_and_decrypt_data(os.path.join(testing_data_path, 'bondcurve_portfolio_20231009.pkl'), key)"
   ]
  }
 ],
 "metadata": {
  "kernelspec": {
   "display_name": "finpricing_dev",
   "language": "python",
   "name": "python3"
  },
  "language_info": {
   "codemirror_mode": {
    "name": "ipython",
    "version": 3
   },
   "file_extension": ".py",
   "mimetype": "text/x-python",
   "name": "python",
   "nbconvert_exporter": "python",
   "pygments_lexer": "ipython3",
   "version": "3.10.8"
  }
 },
 "nbformat": 4,
 "nbformat_minor": 2
}
