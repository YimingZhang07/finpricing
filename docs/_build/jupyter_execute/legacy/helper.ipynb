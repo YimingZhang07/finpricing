{
 "cells": [
  {
   "cell_type": "code",
   "execution_count": 1,
   "metadata": {},
   "outputs": [
    {
     "name": "stdout",
     "output_type": "stream",
     "text": [
      "####################################################################\n",
      "# FINANCEPY BETA Version 0.300 - This build:  29 May 2023 at 11:50 #\n",
      "#     This software is distributed FREE AND WITHOUT ANY WARRANTY   #\n",
      "#  Report bugs as issues at https://github.com/domokane/FinancePy  #\n",
      "####################################################################\n",
      "\n"
     ]
    }
   ],
   "source": [
    "from financepy.utils import *\n",
    "from financepy.products.rates import *"
   ]
  },
  {
   "cell_type": "code",
   "execution_count": 2,
   "metadata": {},
   "outputs": [],
   "source": [
    "swapCalendarType = CalendarTypes.TARGET\n",
    "bus_day_adjust_type = BusDayAdjustTypes.FOLLOWING\n",
    "date_gen_rule_type = DateGenRuleTypes.BACKWARD\n",
    "\n",
    "fixed_coupon = 0.05\n",
    "fixedFreqType = FrequencyTypes.ANNUAL\n",
    "fixed_day_count_type = DayCountTypes.ACT_360\n",
    "\n",
    "float_spread = 0.0\n",
    "floatFreqType = FrequencyTypes.SEMI_ANNUAL\n",
    "float_day_count_type = DayCountTypes.ACT_360\n",
    "\n",
    "swapType = SwapTypes.RECEIVE\n",
    "notional = 10 * ONE_MILLION\n",
    "\n",
    "start_date = Date(20, 6, 2018)\n",
    "maturity_date = Date(20, 9, 2025)"
   ]
  },
  {
   "cell_type": "code",
   "execution_count": 3,
   "metadata": {},
   "outputs": [],
   "source": [
    "swap = IborSwap(start_date,\n",
    "                    maturity_date,\n",
    "                    swapType,\n",
    "                    fixed_coupon,\n",
    "                    fixedFreqType,\n",
    "                    fixed_day_count_type,\n",
    "                    notional,\n",
    "                    float_spread,\n",
    "                    floatFreqType,\n",
    "                    float_day_count_type,\n",
    "                    swapCalendarType,\n",
    "                    bus_day_adjust_type,\n",
    "                    date_gen_rule_type)"
   ]
  },
  {
   "cell_type": "code",
   "execution_count": 4,
   "metadata": {},
   "outputs": [
    {
     "data": {
      "text/plain": [
       "219755.21155157546"
      ]
     },
     "execution_count": 4,
     "metadata": {},
     "output_type": "execute_result"
    }
   ],
   "source": [
    "valuation_date = Date(20,3,2020)\n",
    "settlement_date = valuation_date.add_weekdays(0)\n",
    "from financepy.market.curves.discount_curve_flat import DiscountCurveFlat\n",
    "discount_curve = DiscountCurveFlat(valuation_date, 0.05, FrequencyTypes.SEMI_ANNUAL)\n",
    "swap.value(settlement_date, discount_curve, discount_curve)"
   ]
  },
  {
   "cell_type": "code",
   "execution_count": 5,
   "metadata": {},
   "outputs": [
    {
     "name": "stdout",
     "output_type": "stream",
     "text": [
      "START DATE: 20-JUN-2018\n",
      "MATURITY DATE: 22-SEP-2025\n",
      "COUPON (%): 5.0\n",
      "FREQUENCY: FrequencyTypes.ANNUAL\n",
      "DAY COUNT: DayCountTypes.ACT_360\n",
      "\n",
      "PAYMENTS VALUATION:\n",
      "+---------+-------------+----------+------+-----------+--------+-----------+------------+\n",
      "| PAY_NUM |   PAY_DATE  | NOTIONAL | RATE |    PMNT   |   DF   |     PV    |   CUM_PV   |\n",
      "+---------+-------------+----------+------+-----------+--------+-----------+------------+\n",
      "|    1    | 20-SEP-2018 | 10000000 | 5.0  | 127777.78 |  0.0   |    0.0    |    0.0     |\n",
      "|    2    | 20-SEP-2019 | 10000000 | 5.0  | 506944.44 |  0.0   |    0.0    |    0.0     |\n",
      "|    3    | 21-SEP-2020 | 10000000 | 5.0  | 509722.22 | 0.9753 | 497155.79 | 497155.79  |\n",
      "|    4    | 20-SEP-2021 | 10000000 | 5.0  | 505555.56 | 0.9285 | 469413.12 | 966568.91  |\n",
      "|    5    | 20-SEP-2022 | 10000000 | 5.0  | 506944.44 | 0.8838 | 448021.63 | 1414590.54 |\n",
      "|    6    | 20-SEP-2023 | 10000000 | 5.0  | 506944.44 | 0.8412 | 426433.43 | 1841023.97 |\n",
      "|    7    | 20-SEP-2024 | 10000000 | 5.0  | 508333.33 | 0.8006 |  406982.0 | 2248005.97 |\n",
      "|    8    | 22-SEP-2025 | 10000000 | 5.0  | 509722.22 | 0.7619 | 388339.41 | 2636345.38 |\n",
      "+---------+-------------+----------+------+-----------+--------+-----------+------------+\n"
     ]
    }
   ],
   "source": [
    "swap.print_fixed_leg_pv()"
   ]
  },
  {
   "cell_type": "code",
   "execution_count": 6,
   "metadata": {},
   "outputs": [
    {
     "data": {
      "text/plain": [
       "[0.25555555555555554,\n",
       " 1.0138888888888888,\n",
       " 1.0194444444444444,\n",
       " 1.011111111111111,\n",
       " 1.0138888888888888,\n",
       " 1.0138888888888888,\n",
       " 1.0166666666666666,\n",
       " 1.0194444444444444]"
      ]
     },
     "execution_count": 6,
     "metadata": {},
     "output_type": "execute_result"
    }
   ],
   "source": [
    "swap._fixed_leg._year_fracs"
   ]
  },
  {
   "cell_type": "code",
   "execution_count": 7,
   "metadata": {},
   "outputs": [
    {
     "name": "stdout",
     "output_type": "stream",
     "text": [
      "START DATE: 20-JUN-2018\n",
      "MATURITY DATE: 22-SEP-2025\n",
      "SPREAD (BPS): 0.0\n",
      "FREQUENCY: FrequencyTypes.SEMI_ANNUAL\n",
      "DAY COUNT: DayCountTypes.ACT_360\n",
      "START DATE: 20-JUN-2018\n",
      "MATURITY DATE: 22-SEP-2025\n",
      "SPREAD (bp): 0.0\n",
      "FREQUENCY: FrequencyTypes.SEMI_ANNUAL\n",
      "DAY COUNT: DayCountTypes.ACT_360\n",
      "\n",
      "PAYMENTS SCHEDULE:\n",
      "+---------+-------------+-------------+-------------+-------+----------+\n",
      "| PAY_NUM |   PAY_DATE  |  ACCR_START |   ACCR_END  |  DAYS | YEARFRAC |\n",
      "+---------+-------------+-------------+-------------+-------+----------+\n",
      "|    1    | 20-SEP-2018 | 20-JUN-2018 | 20-SEP-2018 |  92.0 |  0.2556  |\n",
      "|    2    | 20-MAR-2019 | 20-SEP-2018 | 20-MAR-2019 | 181.0 |  0.5028  |\n",
      "|    3    | 20-SEP-2019 | 20-MAR-2019 | 20-SEP-2019 | 184.0 |  0.5111  |\n",
      "|    4    | 20-MAR-2020 | 20-SEP-2019 | 20-MAR-2020 | 182.0 |  0.5056  |\n",
      "|    5    | 21-SEP-2020 | 20-MAR-2020 | 21-SEP-2020 | 185.0 |  0.5139  |\n",
      "|    6    | 22-MAR-2021 | 21-SEP-2020 | 22-MAR-2021 | 182.0 |  0.5056  |\n",
      "|    7    | 20-SEP-2021 | 22-MAR-2021 | 20-SEP-2021 | 182.0 |  0.5056  |\n",
      "|    8    | 21-MAR-2022 | 20-SEP-2021 | 21-MAR-2022 | 182.0 |  0.5056  |\n",
      "|    9    | 20-SEP-2022 | 21-MAR-2022 | 20-SEP-2022 | 183.0 |  0.5083  |\n",
      "|    10   | 20-MAR-2023 | 20-SEP-2022 | 20-MAR-2023 | 181.0 |  0.5028  |\n",
      "|    11   | 20-SEP-2023 | 20-MAR-2023 | 20-SEP-2023 | 184.0 |  0.5111  |\n",
      "|    12   | 20-MAR-2024 | 20-SEP-2023 | 20-MAR-2024 | 182.0 |  0.5056  |\n",
      "|    13   | 20-SEP-2024 | 20-MAR-2024 | 20-SEP-2024 | 184.0 |  0.5111  |\n",
      "|    14   | 20-MAR-2025 | 20-SEP-2024 | 20-MAR-2025 | 181.0 |  0.5028  |\n",
      "|    15   | 22-SEP-2025 | 20-MAR-2025 | 22-SEP-2025 | 186.0 |  0.5167  |\n",
      "+---------+-------------+-------------+-------------+-------+----------+\n",
      "\n",
      "PAYMENTS VALUATION:\n",
      "+---------+-------------+----------+--------+-----------+--------+-----------+------------+\n",
      "| PAY_NUM |   PAY_DATE  | NOTIONAL |  IBOR  |    PMNT   |   DF   |     PV    |   CUM_PV   |\n",
      "+---------+-------------+----------+--------+-----------+--------+-----------+------------+\n",
      "|    1    | 20-SEP-2018 | 10000000 |  0.0   |    0.0    |  0.0   |    0.0    |    0.0     |\n",
      "|    2    | 20-MAR-2019 | 10000000 |  0.0   |    0.0    |  0.0   |    0.0    |    0.0     |\n",
      "|    3    | 20-SEP-2019 | 10000000 |  0.0   |    0.0    |  0.0   |    0.0    |    0.0     |\n",
      "|    4    | 20-MAR-2020 | 10000000 |  0.0   |    0.0    |  0.0   |    0.0    |    0.0     |\n",
      "|    5    | 21-SEP-2020 | 10000000 | 5.0007 | 256979.26 | 0.9753 | 250643.82 | 250643.82  |\n",
      "|    6    | 22-MAR-2021 | 10000000 | 4.9997 | 252764.41 | 0.9517 | 240545.23 | 491189.05  |\n",
      "|    7    | 20-SEP-2021 | 10000000 | 4.9998 | 252769.19 | 0.9285 | 234698.59 | 725887.64  |\n",
      "|    8    | 21-MAR-2022 | 10000000 | 4.9998 | 252769.19 | 0.9059 | 228989.73 | 954877.37  |\n",
      "|    9    | 20-SEP-2022 | 10000000 | 5.0002 |  254175.3 | 0.8838 | 224632.17 | 1179509.54 |\n",
      "|    10   | 20-MAR-2023 | 10000000 | 4.9995 | 251363.28 | 0.8624 | 216772.76 | 1396282.3  |\n",
      "|    11   | 20-SEP-2023 | 10000000 | 5.0005 |  255581.6 | 0.8412 | 214991.09 | 1611273.39 |\n",
      "|    12   | 20-MAR-2024 | 10000000 | 4.9998 | 252765.49 | 0.8207 | 207456.41 | 1818729.79 |\n",
      "|    13   | 20-SEP-2024 | 10000000 | 5.0003 | 255572.87 | 0.8006 | 204616.83 | 2023346.63 |\n",
      "|    14   | 20-MAR-2025 | 10000000 | 4.9994 | 251358.47 | 0.7813 | 196381.67 | 2219728.3  |\n",
      "|    15   | 22-SEP-2025 | 10000000 | 5.0012 | 258394.76 | 0.7619 | 196861.87 | 2416590.17 |\n",
      "+---------+-------------+----------+--------+-----------+--------+-----------+------------+\n"
     ]
    }
   ],
   "source": [
    "swap.print_float_leg_pv()"
   ]
  },
  {
   "cell_type": "code",
   "execution_count": 12,
   "metadata": {},
   "outputs": [
    {
     "data": {
      "text/plain": [
       "5.272690754192439"
      ]
     },
     "execution_count": 12,
     "metadata": {},
     "output_type": "execute_result"
    }
   ],
   "source": [
    "swap.pv01(valuation_date, discount_curve)"
   ]
  },
  {
   "cell_type": "code",
   "execution_count": 13,
   "metadata": {},
   "outputs": [
    {
     "data": {
      "text/plain": [
       "0.04516388971357023"
      ]
     },
     "execution_count": 13,
     "metadata": {},
     "output_type": "execute_result"
    }
   ],
   "source": [
    "swap.swap_rate(valuation_date, discount_curve)"
   ]
  },
  {
   "cell_type": "code",
   "execution_count": 16,
   "metadata": {},
   "outputs": [],
   "source": [
    "from copy import deepcopy"
   ]
  },
  {
   "cell_type": "code",
   "execution_count": 17,
   "metadata": {},
   "outputs": [],
   "source": [
    "swap2 = deepcopy(swap)"
   ]
  },
  {
   "cell_type": "code",
   "execution_count": 19,
   "metadata": {},
   "outputs": [],
   "source": [
    "swap2._fixed_leg._coupon += 0.0001"
   ]
  },
  {
   "cell_type": "code",
   "execution_count": 36,
   "metadata": {},
   "outputs": [],
   "source": [
    "swap._fixed_leg.generate_payments()\n",
    "a = swap._fixed_leg.value(settlement_date, discount_curve)"
   ]
  },
  {
   "cell_type": "code",
   "execution_count": 37,
   "metadata": {},
   "outputs": [],
   "source": [
    "swap2._fixed_leg.generate_payments()\n",
    "b = swap2._fixed_leg.value(settlement_date, discount_curve)"
   ]
  },
  {
   "cell_type": "code",
   "execution_count": 45,
   "metadata": {},
   "outputs": [
    {
     "data": {
      "text/plain": [
       "-0.0005272690754192415"
      ]
     },
     "execution_count": 45,
     "metadata": {},
     "output_type": "execute_result"
    }
   ],
   "source": [
    "(a - b) / 10 / ONE_MILLION"
   ]
  },
  {
   "cell_type": "code",
   "execution_count": 46,
   "metadata": {},
   "outputs": [
    {
     "data": {
      "text/plain": [
       "1000.0"
      ]
     },
     "execution_count": 46,
     "metadata": {},
     "output_type": "execute_result"
    }
   ],
   "source": [
    "1e-4 * 1e7"
   ]
  }
 ],
 "metadata": {
  "kernelspec": {
   "display_name": "Python 3",
   "language": "python",
   "name": "python3"
  },
  "language_info": {
   "codemirror_mode": {
    "name": "ipython",
    "version": 3
   },
   "file_extension": ".py",
   "mimetype": "text/x-python",
   "name": "python",
   "nbconvert_exporter": "python",
   "pygments_lexer": "ipython3",
   "version": "3.10.4"
  }
 },
 "nbformat": 4,
 "nbformat_minor": 2
}