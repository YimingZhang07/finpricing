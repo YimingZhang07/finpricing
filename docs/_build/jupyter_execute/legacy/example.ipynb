{
 "cells": [
  {
   "attachments": {},
   "cell_type": "markdown",
   "metadata": {},
   "source": [
    "# Example usage\n",
    "\n",
    "To use `finpricing` in a project:"
   ]
  },
  {
   "cell_type": "code",
   "execution_count": 13,
   "metadata": {},
   "outputs": [],
   "source": [
    "from finpricing.instrument.cds import SingleNameCDS\n",
    "from finpricing.market.discount_curve import DiscountCurve\n",
    "from finpricing.market.survival_curve import SurvivalCurve\n",
    "import finpricing.utils.date"
   ]
  },
  {
   "cell_type": "code",
   "execution_count": 14,
   "metadata": {},
   "outputs": [
    {
     "data": {
      "text/plain": [
       "<module 'finpricing.instrument.cds' from '/workspaces/codespaces-jupyter/finpricing/src/finpricing/instrument/cds.py'>"
      ]
     },
     "execution_count": 14,
     "metadata": {},
     "output_type": "execute_result"
    }
   ],
   "source": [
    "import importlib\n",
    "importlib.reload(finpricing.utils.date)\n",
    "importlib.reload(finpricing.instrument.cds)"
   ]
  },
  {
   "cell_type": "code",
   "execution_count": 15,
   "metadata": {},
   "outputs": [],
   "source": [
    "discount_curve = DiscountCurve.FromValues(d_times, d_values)\n",
    "survival_curve = SurvivalCurve.FromValues(s_times, s_values)"
   ]
  },
  {
   "cell_type": "code",
   "execution_count": 16,
   "metadata": {},
   "outputs": [],
   "source": [
    "mycds = SingleNameCDS(finpricing.utils.date.Date(2019, 11, 22), finpricing.utils.date.Date(2024, 12, 20), 0.05)"
   ]
  },
  {
   "cell_type": "code",
   "execution_count": 17,
   "metadata": {},
   "outputs": [
    {
     "name": "stdout",
     "output_type": "stream",
     "text": [
      "Payment Date         Accrual Days From Last        Year Fraction       Premium Amount\n",
      "Fri (2019, 09, 20)                      0               0.0000               0.0000\n",
      "Fri (2019, 12, 20)                     91               0.2528           12638.8889\n",
      "Fri (2020, 03, 20)                     91               0.2528           12638.8889\n",
      "Mon (2020, 06, 22)                     94               0.2611           13055.5556\n",
      "Mon (2020, 09, 21)                     91               0.2528           12638.8889\n",
      "Mon (2020, 12, 21)                     91               0.2528           12638.8889\n",
      "Mon (2021, 03, 22)                     91               0.2528           12638.8889\n",
      "Mon (2021, 06, 21)                     91               0.2528           12638.8889\n",
      "Mon (2021, 09, 20)                     91               0.2528           12638.8889\n",
      "Mon (2021, 12, 20)                     91               0.2528           12638.8889\n",
      "Mon (2022, 03, 21)                     91               0.2528           12638.8889\n",
      "Mon (2022, 06, 20)                     91               0.2528           12638.8889\n",
      "Tue (2022, 09, 20)                     92               0.2556           12777.7778\n",
      "Tue (2022, 12, 20)                     91               0.2528           12638.8889\n",
      "Mon (2023, 03, 20)                     90               0.2500           12500.0000\n",
      "Tue (2023, 06, 20)                     92               0.2556           12777.7778\n",
      "Wed (2023, 09, 20)                     92               0.2556           12777.7778\n",
      "Wed (2023, 12, 20)                     91               0.2528           12638.8889\n",
      "Wed (2024, 03, 20)                     91               0.2528           12638.8889\n",
      "Thu (2024, 06, 20)                     92               0.2556           12777.7778\n",
      "Fri (2024, 09, 20)                     92               0.2556           12777.7778\n",
      "Mon (2024, 12, 23)                     92               0.2556           12777.7778\n"
     ]
    }
   ],
   "source": [
    "mycds.print_cashflows()"
   ]
  },
  {
   "cell_type": "code",
   "execution_count": 18,
   "metadata": {},
   "outputs": [
    {
     "data": {
      "text/plain": [
       "-198530.4151993385"
      ]
     },
     "execution_count": 18,
     "metadata": {},
     "output_type": "execute_result"
    }
   ],
   "source": [
    "mycds.value(finpricing.utils.date.Date(2019, 11, 21), discount_curve, survival_curve)"
   ]
  },
  {
   "cell_type": "code",
   "execution_count": 19,
   "metadata": {},
   "outputs": [
    {
     "data": {
      "text/plain": [
       "{'premium': {'clean': 237226.0839722353, 'dirty': 245976.08397223527},\n",
       " 'protection': 47445.66877289678,\n",
       " 'clean': -189780.41519933852,\n",
       " 'dirty': -198530.4151993385}"
      ]
     },
     "execution_count": 19,
     "metadata": {},
     "output_type": "execute_result"
    }
   ],
   "source": [
    "mycds.value(finpricing.utils.date.Date(2019, 11, 21), discount_curve, survival_curve, price_type=\"detail\")"
   ]
  },
  {
   "cell_type": "code",
   "execution_count": 20,
   "metadata": {},
   "outputs": [
    {
     "data": {
      "text/plain": [
       "{'days': 63, 'factor': 0.175, 'interest': 8750.0}"
      ]
     },
     "execution_count": 20,
     "metadata": {},
     "output_type": "execute_result"
    }
   ],
   "source": [
    "mycds.accrued_from_last_coupon"
   ]
  },
  {
   "cell_type": "code",
   "execution_count": 21,
   "metadata": {},
   "outputs": [
    {
     "data": {
      "text/plain": [
       "{'clean': 4.744521679444706, 'dirty': 4.919521679444705}"
      ]
     },
     "execution_count": 21,
     "metadata": {},
     "output_type": "execute_result"
    }
   ],
   "source": [
    "mycds.risky_pv01(finpricing.utils.date.Date(2019, 11, 21), discount_curve=discount_curve, survival_curve=survival_curve)"
   ]
  },
  {
   "cell_type": "code",
   "execution_count": 22,
   "metadata": {},
   "outputs": [
    {
     "data": {
      "text/plain": [
       "{'full_rpv01': 4.91955041077243, 'clean_rpv01': 4.744550410772431}"
      ]
     },
     "execution_count": 22,
     "metadata": {},
     "output_type": "execute_result"
    }
   ],
   "source": [
    "cds_contract.risky_pv01(valuation_date, issuer_curve)"
   ]
  }
 ],
 "metadata": {
  "kernelspec": {
   "display_name": "Python 3",
   "language": "python",
   "name": "python3"
  },
  "language_info": {
   "codemirror_mode": {
    "name": "ipython",
    "version": 3
   },
   "file_extension": ".py",
   "mimetype": "text/x-python",
   "name": "python",
   "nbconvert_exporter": "python",
   "pygments_lexer": "ipython3",
   "version": "3.10.4"
  }
 },
 "nbformat": 4,
 "nbformat_minor": 4
}