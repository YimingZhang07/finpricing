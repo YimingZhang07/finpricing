{
 "cells": [
  {
   "cell_type": "code",
   "execution_count": 77,
   "metadata": {},
   "outputs": [],
   "source": [
    "from financepy.utils import *\n",
    "from financepy.products.rates import *\n",
    "from financepy.market.curves import *\n",
    "import math"
   ]
  },
  {
   "cell_type": "markdown",
   "metadata": {},
   "source": [
    "## FinancePy implementation of discount curve"
   ]
  },
  {
   "cell_type": "code",
   "execution_count": 78,
   "metadata": {},
   "outputs": [],
   "source": [
    "valuation_date = Date(21, 11, 2019)\n",
    "settlement_date = valuation_date.add_days(1)\n",
    "maturity_date = Date(20, 12, 2024)\n",
    "cdsCoupon = 0.050\n",
    "notional = ONE_MILLION\n",
    "long_protection = True\n",
    "tradeDate = Date(9, 8, 2019)"
   ]
  },
  {
   "cell_type": "code",
   "execution_count": 79,
   "metadata": {},
   "outputs": [],
   "source": [
    "dcType = DayCountTypes.ACT_360\n",
    "depo1 = IborDeposit(settlement_date, \"1M\", 0.017156, dcType)\n",
    "depo2 = IborDeposit(settlement_date, \"2M\", 0.018335, dcType)\n",
    "depo3 = IborDeposit(settlement_date, \"3M\", 0.018988, dcType)\n",
    "depo4 = IborDeposit(settlement_date, \"6M\", 0.018911, dcType)\n",
    "depo5 = IborDeposit(settlement_date, \"12M\", 0.019093, dcType)\n",
    "depos = [depo1,depo2,depo3,depo4,depo5]\n",
    "\n",
    "swapType = SwapTypes.PAY\n",
    "dcType = DayCountTypes.THIRTY_E_360_ISDA\n",
    "fixedFreq = FrequencyTypes.SEMI_ANNUAL\n",
    "swap1 = IborSwap(settlement_date,\"2Y\",swapType,0.015630,fixedFreq,dcType)\n",
    "swap2 = IborSwap(settlement_date,\"3Y\",swapType,0.015140,fixedFreq,dcType)\n",
    "swap3 = IborSwap(settlement_date,\"4Y\",swapType,0.015065,fixedFreq,dcType)\n",
    "swap4 = IborSwap(settlement_date,\"5Y\",swapType,0.015140,fixedFreq,dcType)\n",
    "swap5 = IborSwap(settlement_date,\"6Y\",swapType,0.015270,fixedFreq,dcType)\n",
    "swap6 = IborSwap(settlement_date,\"7Y\",swapType,0.015470,fixedFreq,dcType)\n",
    "swap7 = IborSwap(settlement_date,\"8Y\",swapType,0.015720,fixedFreq,dcType)\n",
    "swap8 = IborSwap(settlement_date,\"9Y\",swapType,0.016000,fixedFreq,dcType)\n",
    "swap9 = IborSwap(settlement_date,\"10Y\",swapType,0.016285,fixedFreq,dcType)\n",
    "swap10 = IborSwap(settlement_date,\"12Y\",swapType,0.01670,fixedFreq,dcType)\n",
    "swaps = [swap1,swap2,swap3,swap4,swap5,swap6,swap7,swap8,swap9,swap10]\n",
    "\n",
    "libor_curve = IborSingleCurve(valuation_date, depos, [], swaps)"
   ]
  },
  {
   "cell_type": "code",
   "execution_count": 80,
   "metadata": {},
   "outputs": [
    {
     "name": "stdout",
     "output_type": "stream",
     "text": [
      "START DATE: 22-NOV-2019\n",
      "MATURITY DATE: 22-NOV-2021\n",
      "COUPON (%): 1.5630000000000002\n",
      "FREQUENCY: FrequencyTypes.SEMI_ANNUAL\n",
      "DAY COUNT: DayCountTypes.THIRTY_E_360_ISDA\n",
      "\n",
      "PAYMENTS SCHEDULE:\n",
      "+---------+-------------+-------------+-------------+------+----------+-------+---------+\n",
      "| PAY_NUM |   PAY_DATE  |  ACCR_START |   ACCR_END  | DAYS | YEARFRAC |  RATE |   PMNT  |\n",
      "+---------+-------------+-------------+-------------+------+----------+-------+---------+\n",
      "|    1    | 22-MAY-2020 | 22-NOV-2019 | 22-MAY-2020 | 180  |   0.5    | 1.563 |  7815.0 |\n",
      "|    2    | 23-NOV-2020 | 22-MAY-2020 | 23-NOV-2020 | 181  |  0.5028  | 1.563 | 7858.42 |\n",
      "|    3    | 24-MAY-2021 | 23-NOV-2020 | 24-MAY-2021 | 181  |  0.5028  | 1.563 | 7858.42 |\n",
      "|    4    | 22-NOV-2021 | 24-MAY-2021 | 22-NOV-2021 | 178  |  0.4944  | 1.563 | 7728.17 |\n",
      "+---------+-------------+-------------+-------------+------+----------+-------+---------+\n",
      "START DATE: 22-NOV-2019\n",
      "MATURITY DATE: 22-NOV-2021\n",
      "SPREAD (bp): 0.0\n",
      "FREQUENCY: FrequencyTypes.QUARTERLY\n",
      "DAY COUNT: DayCountTypes.THIRTY_E_360\n",
      "\n",
      "PAYMENTS SCHEDULE:\n",
      "+---------+-------------+-------------+-------------+------+----------+\n",
      "| PAY_NUM |   PAY_DATE  |  ACCR_START |   ACCR_END  | DAYS | YEARFRAC |\n",
      "+---------+-------------+-------------+-------------+------+----------+\n",
      "|    1    | 24-FEB-2020 | 22-NOV-2019 | 24-FEB-2020 |  92  |  0.2556  |\n",
      "|    2    | 22-MAY-2020 | 24-FEB-2020 | 22-MAY-2020 |  88  |  0.2444  |\n",
      "|    3    | 24-AUG-2020 | 22-MAY-2020 | 24-AUG-2020 |  92  |  0.2556  |\n",
      "|    4    | 23-NOV-2020 | 24-AUG-2020 | 23-NOV-2020 |  89  |  0.2472  |\n",
      "|    5    | 22-FEB-2021 | 23-NOV-2020 | 22-FEB-2021 |  89  |  0.2472  |\n",
      "|    6    | 24-MAY-2021 | 22-FEB-2021 | 24-MAY-2021 |  92  |  0.2556  |\n",
      "|    7    | 23-AUG-2021 | 24-MAY-2021 | 23-AUG-2021 |  89  |  0.2472  |\n",
      "|    8    | 22-NOV-2021 | 23-AUG-2021 | 22-NOV-2021 |  89  |  0.2472  |\n",
      "+---------+-------------+-------------+-------------+------+----------+\n"
     ]
    }
   ],
   "source": [
    "swap1.print_flows()"
   ]
  },
  {
   "cell_type": "code",
   "execution_count": 81,
   "metadata": {},
   "outputs": [
    {
     "name": "stdout",
     "output_type": "stream",
     "text": [
      "START DATE: 22-NOV-2019\n",
      "MATURITY DATE: 22-NOV-2021\n",
      "COUPON (%): 1.5630000000000002\n",
      "FREQUENCY: FrequencyTypes.SEMI_ANNUAL\n",
      "DAY COUNT: DayCountTypes.THIRTY_E_360_ISDA\n",
      "\n",
      "PAYMENTS VALUATION:\n",
      "+---------+-------------+----------+-------+---------+--------+---------+----------+\n",
      "| PAY_NUM |   PAY_DATE  | NOTIONAL |  RATE |   PMNT  |   DF   |    PV   |  CUM_PV  |\n",
      "+---------+-------------+----------+-------+---------+--------+---------+----------+\n",
      "|    1    | 22-MAY-2020 | 1000000  | 1.563 |  7815.0 | 0.9905 | 7740.78 | 7740.78  |\n",
      "|    2    | 23-NOV-2020 | 1000000  | 1.563 | 7858.42 | 0.9809 | 7708.37 | 15449.15 |\n",
      "|    3    | 24-MAY-2021 | 1000000  | 1.563 | 7858.42 | 0.9751 | 7662.77 | 23111.93 |\n",
      "|    4    | 22-NOV-2021 | 1000000  | 1.563 | 7728.17 | 0.9693 | 7491.29 | 30603.22 |\n",
      "+---------+-------------+----------+-------+---------+--------+---------+----------+\n"
     ]
    }
   ],
   "source": [
    "swap1._fixed_leg.print_valuation()"
   ]
  },
  {
   "cell_type": "code",
   "execution_count": 82,
   "metadata": {},
   "outputs": [
    {
     "data": {
      "text/plain": [
       "-30603.216915856316"
      ]
     },
     "execution_count": 82,
     "metadata": {},
     "output_type": "execute_result"
    }
   ],
   "source": [
    "swap1._fixed_leg.value(valuation_date, libor_curve)"
   ]
  },
  {
   "cell_type": "code",
   "execution_count": 83,
   "metadata": {},
   "outputs": [
    {
     "name": "stdout",
     "output_type": "stream",
     "text": [
      "START DATE: 22-NOV-2019\n",
      "MATURITY DATE: 22-NOV-2021\n",
      "SPREAD (BPS): 0.0\n",
      "FREQUENCY: FrequencyTypes.QUARTERLY\n",
      "DAY COUNT: DayCountTypes.THIRTY_E_360\n",
      "START DATE: 22-NOV-2019\n",
      "MATURITY DATE: 22-NOV-2021\n",
      "SPREAD (bp): 0.0\n",
      "FREQUENCY: FrequencyTypes.QUARTERLY\n",
      "DAY COUNT: DayCountTypes.THIRTY_E_360\n",
      "\n",
      "PAYMENTS SCHEDULE:\n",
      "+---------+-------------+-------------+-------------+------+----------+\n",
      "| PAY_NUM |   PAY_DATE  |  ACCR_START |   ACCR_END  | DAYS | YEARFRAC |\n",
      "+---------+-------------+-------------+-------------+------+----------+\n",
      "|    1    | 24-FEB-2020 | 22-NOV-2019 | 24-FEB-2020 |  92  |  0.2556  |\n",
      "|    2    | 22-MAY-2020 | 24-FEB-2020 | 22-MAY-2020 |  88  |  0.2444  |\n",
      "|    3    | 24-AUG-2020 | 22-MAY-2020 | 24-AUG-2020 |  92  |  0.2556  |\n",
      "|    4    | 23-NOV-2020 | 24-AUG-2020 | 23-NOV-2020 |  89  |  0.2472  |\n",
      "|    5    | 22-FEB-2021 | 23-NOV-2020 | 22-FEB-2021 |  89  |  0.2472  |\n",
      "|    6    | 24-MAY-2021 | 22-FEB-2021 | 24-MAY-2021 |  92  |  0.2556  |\n",
      "|    7    | 23-AUG-2021 | 24-MAY-2021 | 23-AUG-2021 |  89  |  0.2472  |\n",
      "|    8    | 22-NOV-2021 | 23-AUG-2021 | 22-NOV-2021 |  89  |  0.2472  |\n",
      "+---------+-------------+-------------+-------------+------+----------+\n",
      "\n",
      "PAYMENTS VALUATION:\n",
      "+---------+-------------+----------+--------+---------+--------+---------+----------+\n",
      "| PAY_NUM |   PAY_DATE  | NOTIONAL |  IBOR  |   PMNT  |   DF   |    PV   |  CUM_PV  |\n",
      "+---------+-------------+----------+--------+---------+--------+---------+----------+\n",
      "|    1    | 24-FEB-2020 | 1000000  | 1.9368 | 4949.69 | 0.995  | 4925.08 | 4925.08  |\n",
      "|    2    | 22-MAY-2020 | 1000000  | 1.8687 | 4567.92 | 0.9905 | 4524.54 | 9449.62  |\n",
      "|    3    | 24-AUG-2020 | 1000000  | 1.9403 | 4958.58 | 0.9856 | 4887.25 | 14336.87 |\n",
      "|    4    | 23-NOV-2020 | 1000000  | 1.9417 | 4800.26 | 0.9809 | 4708.61 | 19045.48 |\n",
      "|    5    | 22-FEB-2021 | 1000000  | 1.2048 | 2978.56 | 0.978  | 2913.02 | 21958.49 |\n",
      "|    6    | 24-MAY-2021 | 1000000  | 1.1598 |  2963.9 | 0.9751 | 2890.11 | 24848.6  |\n",
      "|    7    | 23-AUG-2021 | 1000000  | 1.1989 |  2963.9 | 0.9722 | 2881.57 | 27730.17 |\n",
      "|    8    | 22-NOV-2021 | 1000000  | 1.1989 |  2963.9 | 0.9693 | 2873.05 | 30603.22 |\n",
      "+---------+-------------+----------+--------+---------+--------+---------+----------+\n"
     ]
    }
   ],
   "source": [
    "swap1._float_leg.print_valuation()"
   ]
  },
  {
   "cell_type": "markdown",
   "metadata": {},
   "source": [
    "The above floating rate comes from the following calculations."
   ]
  },
  {
   "cell_type": "code",
   "execution_count": 84,
   "metadata": {},
   "outputs": [
    {
     "data": {
      "text/plain": [
       "0.9999523467153882"
      ]
     },
     "execution_count": 84,
     "metadata": {},
     "output_type": "execute_result"
    }
   ],
   "source": [
    "libor_curve.df(Date(22, 11, 2019))"
   ]
  },
  {
   "cell_type": "code",
   "execution_count": 85,
   "metadata": {},
   "outputs": [
    {
     "data": {
      "text/plain": [
       "0.9950272667059037"
      ]
     },
     "execution_count": 85,
     "metadata": {},
     "output_type": "execute_result"
    }
   ],
   "source": [
    "libor_curve.df(Date(24, 2, 2020))"
   ]
  },
  {
   "cell_type": "code",
   "execution_count": 86,
   "metadata": {},
   "outputs": [
    {
     "data": {
      "text/plain": [
       "(0.25555555555555554, 92, 360)"
      ]
     },
     "execution_count": 86,
     "metadata": {},
     "output_type": "execute_result"
    }
   ],
   "source": [
    "DayCount(libor_curve._day_count_type).year_frac(Date(22, 11, 2019), Date(24, 2, 2020))"
   ]
  },
  {
   "cell_type": "code",
   "execution_count": 87,
   "metadata": {},
   "outputs": [
    {
     "data": {
      "text/plain": [
       "0.019368365929134816"
      ]
     },
     "execution_count": 87,
     "metadata": {},
     "output_type": "execute_result"
    }
   ],
   "source": [
    "(0.9999523467153882 / 0.9950272667059037 - 1) / 0.25555555555555554"
   ]
  },
  {
   "cell_type": "code",
   "execution_count": 88,
   "metadata": {},
   "outputs": [
    {
     "data": {
      "text/plain": [
       "DayCountTypes.THIRTY_E_360"
      ]
     },
     "execution_count": 88,
     "metadata": {},
     "output_type": "execute_result"
    }
   ],
   "source": [
    "DayCount(libor_curve._day_count_type)"
   ]
  },
  {
   "cell_type": "markdown",
   "metadata": {},
   "source": [
    "The above calulation is WRONG, in the sense that the discounting factor uses `ACT_ACT_ISDA` day count convention, while the year fraction is `Thirty_E_360` day count convention. Refer to the following code for the hidden calculation."
   ]
  },
  {
   "cell_type": "code",
   "execution_count": 89,
   "metadata": {},
   "outputs": [],
   "source": [
    "import financepy\n",
    "from financepy.utils.helpers import times_from_dates\n",
    "from financepy.market.curves.interpolator import _uinterpolate, InterpTypes"
   ]
  },
  {
   "cell_type": "code",
   "execution_count": 90,
   "metadata": {},
   "outputs": [
    {
     "data": {
      "text/plain": [
       "0.0027397260273972603"
      ]
     },
     "execution_count": 90,
     "metadata": {},
     "output_type": "execute_result"
    }
   ],
   "source": [
    "times_from_dates(Date(22, 11, 2019), Date(21, 11, 2019), DayCountTypes.ACT_ACT_ISDA)"
   ]
  },
  {
   "cell_type": "code",
   "execution_count": 91,
   "metadata": {},
   "outputs": [
    {
     "data": {
      "text/plain": [
       "0.9999523467153882"
      ]
     },
     "execution_count": 91,
     "metadata": {},
     "output_type": "execute_result"
    }
   ],
   "source": [
    "libor_curve._df(0.0027397260273972603)"
   ]
  },
  {
   "cell_type": "code",
   "execution_count": 92,
   "metadata": {},
   "outputs": [
    {
     "data": {
      "text/plain": [
       "0.9999523467153882"
      ]
     },
     "execution_count": 92,
     "metadata": {},
     "output_type": "execute_result"
    }
   ],
   "source": [
    "_uinterpolate(0.0027397260273972603, libor_curve._times, libor_curve._dfs, InterpTypes.FLAT_FWD_RATES.value)"
   ]
  },
  {
   "cell_type": "code",
   "execution_count": 93,
   "metadata": {},
   "outputs": [
    {
     "data": {
      "text/plain": [
       "0.9999523467153882"
      ]
     },
     "execution_count": 93,
     "metadata": {},
     "output_type": "execute_result"
    }
   ],
   "source": [
    "math.exp(math.log(libor_curve._dfs[1]) * 0.0027397260273972603 / libor_curve._times[1])"
   ]
  },
  {
   "cell_type": "markdown",
   "metadata": {},
   "source": [
    "## FinPricing"
   ]
  },
  {
   "cell_type": "code",
   "execution_count": 94,
   "metadata": {},
   "outputs": [],
   "source": [
    "from finpricing.market.discount_curve import DiscountCurve\n",
    "from finpricing.utils.date import Date\n",
    "from finpricing.instrument.deposit import Deposit\n",
    "from finpricing.market.dummy_curve import DummyCurve\n",
    "from finpricing.utils.frequency import FrequencyTypes\n",
    "from finpricing.utils.day_count import DayCountTypes, DayCount\n",
    "from finpricing.instrument.vanilla_swap import VanillaInterestRateSwap, SwapCounterpartyTypes\n",
    "from finpricing.utils.bootstrap_tools import swap_value_by_df, newton_solve\n",
    "from finpricing.utils.interpolator import InterpTypes\n",
    "from finpricing.utils.reconcile import discount_curve_recon\n",
    "import numpy as np\n",
    "\n",
    "valuation_date = Date(2019, 11, 21)\n",
    "settlement_date = Date(2019, 11, 22)\n",
    "\n",
    "swap = VanillaInterestRateSwap(settlement_date,\n",
    "                                \"2Y\",\n",
    "                                counterparty_type=SwapCounterpartyTypes.FIXED_RATE_PAYER,\n",
    "                                fixed_rate=0.015630,\n",
    "                                fixed_freq_type=FrequencyTypes.SEMI_ANNUAL, fixed_day_count_type=DayCountTypes.Thirty_E_360,\n",
    "                                float_spread=0.0,\n",
    "                                float_freq_type=FrequencyTypes.QUARTERLY,\n",
    "                                float_day_count_type=DayCountTypes.Thirty_E_360)"
   ]
  },
  {
   "cell_type": "code",
   "execution_count": 95,
   "metadata": {},
   "outputs": [],
   "source": [
    "# print(np.array2string(libor_curve._times, precision=64, suppress_small=True, separator=', '))\n",
    "# print(np.array2string(libor_curve._dfs, precision=64, suppress_small=True, separator=', '))"
   ]
  },
  {
   "cell_type": "markdown",
   "metadata": {},
   "source": [
    "To test the Newton's method, we construct a discount curve from the known times and values, and only allow Newton to tweak the last value (there is a duplicate which is the initial guess). We can see the reconciliation is perfect."
   ]
  },
  {
   "cell_type": "code",
   "execution_count": 96,
   "metadata": {},
   "outputs": [],
   "source": [
    "\n",
    "times = [0.,  0.0027397260273972603,  0.08767123287671233,\n",
    "         0.16986301369863013,  0.2602739726027397,  0.5013698630136987,\n",
    "         1.0082191780821919, 2.0054794520547947]\n",
    "dfs = [1., 0.9999523467153882, 0.9984772740500503,\n",
    "       0.9968553525037839, 0.9950190643060934, 0.990482775609669,\n",
    "       0.9808606275215394, 0.9808606275215394]\n",
    "discount_curve = DiscountCurve.FromValues(\n",
    "    times, dfs, valuation_date=valuation_date, day_count_type=DayCountTypes.ACT_ACT_ISDA)\n",
    "index_curve = DiscountCurve.FromValues(\n",
    "    times, dfs, valuation_date=valuation_date, day_count_type=DayCountTypes.Thirty_E_360)\n"
   ]
  },
  {
   "cell_type": "code",
   "execution_count": 97,
   "metadata": {},
   "outputs": [
    {
     "data": {
      "text/plain": [
       "0.9693176903266897"
      ]
     },
     "execution_count": 97,
     "metadata": {},
     "output_type": "execute_result"
    }
   ],
   "source": [
    "newton_solve(swap_value_by_df,\n",
    "             0.98,\n",
    "             args=(swap, valuation_date, discount_curve, index_curve),\n",
    "             max_iter=50)"
   ]
  },
  {
   "cell_type": "code",
   "execution_count": 98,
   "metadata": {},
   "outputs": [
    {
     "name": "stdout",
     "output_type": "stream",
     "text": [
      "+--------+---------------+--------------+--------+\n",
      "| TIMES  | FINPRICING_DF | FINANCEPY_DF |  DIFF  |\n",
      "+--------+---------------+--------------+--------+\n",
      "| 0.0000 |     1.0000    |    1.0000    | 0.0000 |\n",
      "| 0.2222 |     0.9958    |    0.9958    | 0.0000 |\n",
      "| 0.4444 |     0.9916    |    0.9916    | 0.0000 |\n",
      "| 0.6667 |     0.9873    |    0.9873    | 0.0000 |\n",
      "| 0.8889 |     0.9831    |    0.9831    | 0.0000 |\n",
      "| 1.1111 |     0.9797    |    0.9797    | 0.0000 |\n",
      "| 1.3333 |     0.9771    |    0.9771    | 0.0000 |\n",
      "| 1.5556 |     0.9745    |    0.9745    | 0.0000 |\n",
      "| 1.7778 |     0.9719    |    0.9719    | 0.0000 |\n",
      "| 2.0000 |     0.9694    |    0.9694    | 0.0000 |\n",
      "+--------+---------------+--------------+--------+\n"
     ]
    }
   ],
   "source": [
    "discount_curve_recon(discount_curve, libor_curve)"
   ]
  },
  {
   "cell_type": "code",
   "execution_count": 99,
   "metadata": {},
   "outputs": [
    {
     "name": "stdout",
     "output_type": "stream",
     "text": [
      "+--------------------+--------------------+--------------------+--------------+----------------+-----------+--------+--------+-----------+------------+\n",
      "|    PAYMENT_DATE    |   ACCRUAL_START    |    ACCRUAL_END     | ACCRUAL_DAYS | ACCRUAL_FACTOR |  CASHFLOW |   DT   |   DF   |     PV    |   CUM_PV   |\n",
      "+--------------------+--------------------+--------------------+--------------+----------------+-----------+--------+--------+-----------+------------+\n",
      "| Fri (2020, 05, 22) | Fri (2019, 11, 22) | Fri (2020, 05, 22) |     180      |     0.5000     | 7815.0000 | 0.5003 | 0.9905 | 7740.7788 | 7740.7788  |\n",
      "| Mon (2020, 11, 23) | Fri (2020, 05, 22) | Mon (2020, 11, 23) |     181      |     0.5028     | 7858.4167 | 1.0058 | 0.9809 | 7708.3749 | 15449.1537 |\n",
      "| Mon (2021, 05, 24) | Mon (2020, 11, 23) | Mon (2021, 05, 24) |     181      |     0.5028     | 7858.4167 | 1.5041 | 0.9751 | 7662.7719 | 23111.9256 |\n",
      "| Mon (2021, 11, 22) | Mon (2021, 05, 24) | Mon (2021, 11, 22) |     178      |     0.4944     | 7728.1667 | 2.0027 | 0.9693 | 7491.2923 | 30603.2179 |\n",
      "+--------------------+--------------------+--------------------+--------------+----------------+-----------+--------+--------+-----------+------------+\n"
     ]
    }
   ],
   "source": [
    "swap.fixed_leg.print_valuation()"
   ]
  },
  {
   "cell_type": "code",
   "execution_count": 100,
   "metadata": {},
   "outputs": [
    {
     "name": "stdout",
     "output_type": "stream",
     "text": [
      "+--------------------+--------------------+--------------------+--------------+----------------+------------+-----------+--------+--------+-----------+------------+\n",
      "|    PAYMENT_DATE    |   ACCRUAL_START    |    ACCRUAL_END     | ACCRUAL_DAYS | ACCRUAL_FACTOR | FLOAT_RATE |  CASHFLOW |   DT   |   DF   |     PV    |   CUM_PV   |\n",
      "+--------------------+--------------------+--------------------+--------------+----------------+------------+-----------+--------+--------+-----------+------------+\n",
      "| Mon (2020, 02, 24) | Fri (2019, 11, 22) | Mon (2020, 02, 24) |      92      |     0.2556     |   0.0192   | 4917.5416 | 0.2599 | 0.9950 | 4893.0880 | 4893.0880  |\n",
      "| Fri (2020, 05, 22) | Mon (2020, 02, 24) | Fri (2020, 05, 22) |      88      |     0.2444     |   0.0190   | 4646.8771 | 0.5003 | 0.9905 | 4602.7445 | 9495.8325  |\n",
      "| Mon (2020, 08, 24) | Fri (2020, 05, 22) | Mon (2020, 08, 24) |      92      |     0.2556     |   0.0193   | 4934.2246 | 0.7571 | 0.9856 | 4863.2482 | 14359.0806 |\n",
      "| Mon (2020, 11, 23) | Mon (2020, 08, 24) | Mon (2020, 11, 23) |      89      |     0.2472     |   0.0193   | 4772.9426 | 1.0058 | 0.9809 | 4681.8122 | 19040.8929 |\n",
      "| Mon (2021, 02, 22) | Mon (2020, 11, 23) | Mon (2021, 02, 22) |      89      |     0.2472     |   0.0120   | 2958.7005 | 1.2548 | 0.9780 | 2893.5909 | 21934.4838 |\n",
      "| Mon (2021, 05, 24) | Mon (2021, 02, 22) | Mon (2021, 05, 24) |      92      |     0.2556     |   0.0119   | 3038.1750 | 1.5041 | 0.9751 | 2962.5359 | 24897.0198 |\n",
      "| Mon (2021, 08, 23) | Mon (2021, 05, 24) | Mon (2021, 08, 23) |      89      |     0.2472     |   0.0119   | 2938.9586 | 1.7534 | 0.9722 | 2857.3209 | 27754.3407 |\n",
      "| Mon (2021, 11, 22) | Mon (2021, 08, 23) | Mon (2021, 11, 22) |      89      |     0.2472     |   0.0119   | 2938.9586 | 2.0027 | 0.9693 | 2848.8772 | 30603.2179 |\n",
      "+--------------------+--------------------+--------------------+--------------+----------------+------------+-----------+--------+--------+-----------+------------+\n"
     ]
    }
   ],
   "source": [
    "swap.float_leg.print_valuation()"
   ]
  },
  {
   "cell_type": "code",
   "execution_count": 101,
   "metadata": {},
   "outputs": [],
   "source": [
    "a = discount_curve.df(Date(2019, 11, 22))\n",
    "b = discount_curve.df(Date(2020, 2, 24))\n",
    "t = discount_curve.year_frac(Date(2019, 11, 22), Date(2020, 2, 24))"
   ]
  },
  {
   "cell_type": "code",
   "execution_count": 102,
   "metadata": {},
   "outputs": [
    {
     "data": {
      "text/plain": [
       "(0.9999523467153882, 0.9950272667059037, 0.2571300247024478)"
      ]
     },
     "execution_count": 102,
     "metadata": {},
     "output_type": "execute_result"
    }
   ],
   "source": [
    "(a, b, t)"
   ]
  },
  {
   "cell_type": "code",
   "execution_count": 103,
   "metadata": {},
   "outputs": [
    {
     "data": {
      "text/plain": [
       "0.19368365929135237"
      ]
     },
     "execution_count": 103,
     "metadata": {},
     "output_type": "execute_result"
    }
   ],
   "source": [
    "(a / b - 1) / 0.025555555555555"
   ]
  }
 ],
 "metadata": {
  "kernelspec": {
   "display_name": "Python 3",
   "language": "python",
   "name": "python3"
  },
  "language_info": {
   "codemirror_mode": {
    "name": "ipython",
    "version": 3
   },
   "file_extension": ".py",
   "mimetype": "text/x-python",
   "name": "python",
   "nbconvert_exporter": "python",
   "pygments_lexer": "ipython3",
   "version": "3.10.4"
  }
 },
 "nbformat": 4,
 "nbformat_minor": 2
}