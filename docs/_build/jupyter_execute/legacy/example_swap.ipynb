{
 "cells": [
  {
   "attachments": {},
   "cell_type": "markdown",
   "metadata": {},
   "source": [
    "## Fixed Leg Implementation"
   ]
  },
  {
   "cell_type": "code",
   "execution_count": 1,
   "metadata": {},
   "outputs": [],
   "source": [
    "from finpricing.utils.date import Date\n",
    "from finpricing.utils.day_count import DayCountTypes\n",
    "from finpricing.utils.frequency import FrequencyTypes\n",
    "from finpricing.utils.calendar import CalendarTypes, DateGenRuleTypes\n",
    "from finpricing.utils.bus_day_adj import BusDayAdjustTypes\n",
    "from finpricing.utils.literal import Literal\n",
    "from finpricing.instrument.swap_fixed_leg import SwapFixedLeg\n",
    "from finpricing.market.dummy_curve import DummyCurve"
   ]
  },
  {
   "cell_type": "code",
   "execution_count": 2,
   "metadata": {},
   "outputs": [],
   "source": [
    "fixed_leg = SwapFixedLeg(start_date=Date(2015, 10, 27),\n",
    "                         maturity_date_or_tenor=\"10Y\",\n",
    "                         coupon_rate=0.025,\n",
    "                         notional=10 * Literal.ONE_MILLION.value,\n",
    "                         freq_type=FrequencyTypes.SEMI_ANNUAL,\n",
    "                         day_count_type=DayCountTypes.ACT_360,\n",
    "                         calendar_type=CalendarTypes.UNITED_STATES,\n",
    "                         bus_day_adj_type=BusDayAdjustTypes.MODIFIED_FOLLOWING,\n",
    "                         date_gen_rule_type=DateGenRuleTypes.FORWARD)"
   ]
  },
  {
   "cell_type": "code",
   "execution_count": 3,
   "metadata": {},
   "outputs": [
    {
     "name": "stdout",
     "output_type": "stream",
     "text": [
      "+--------------------+--------------------+--------------------+--------------+----------------+-------------+\n",
      "|    PAYMENT_DATE    |   ACCRUAL_START    |    ACCRUAL_END     | ACCRUAL_DAYS | ACCRUAL_FACTOR |   CASHFLOW  |\n",
      "+--------------------+--------------------+--------------------+--------------+----------------+-------------+\n",
      "| Wed (2016, 04, 27) | Tue (2015, 10, 27) | Wed (2016, 04, 27) |     183      |     0.5083     | 127083.3333 |\n",
      "| Thu (2016, 10, 27) | Wed (2016, 04, 27) | Thu (2016, 10, 27) |     183      |     0.5083     | 127083.3333 |\n",
      "| Thu (2017, 04, 27) | Thu (2016, 10, 27) | Thu (2017, 04, 27) |     182      |     0.5056     | 126388.8889 |\n",
      "| Fri (2017, 10, 27) | Thu (2017, 04, 27) | Fri (2017, 10, 27) |     183      |     0.5083     | 127083.3333 |\n",
      "| Fri (2018, 04, 27) | Fri (2017, 10, 27) | Fri (2018, 04, 27) |     182      |     0.5056     | 126388.8889 |\n",
      "| Mon (2018, 10, 29) | Fri (2018, 04, 27) | Mon (2018, 10, 29) |     185      |     0.5139     | 128472.2222 |\n",
      "| Mon (2019, 04, 29) | Mon (2018, 10, 29) | Mon (2019, 04, 29) |     182      |     0.5056     | 126388.8889 |\n",
      "| Mon (2019, 10, 28) | Mon (2019, 04, 29) | Mon (2019, 10, 28) |     182      |     0.5056     | 126388.8889 |\n",
      "| Mon (2020, 04, 27) | Mon (2019, 10, 28) | Mon (2020, 04, 27) |     182      |     0.5056     | 126388.8889 |\n",
      "| Tue (2020, 10, 27) | Mon (2020, 04, 27) | Tue (2020, 10, 27) |     183      |     0.5083     | 127083.3333 |\n",
      "| Tue (2021, 04, 27) | Tue (2020, 10, 27) | Tue (2021, 04, 27) |     182      |     0.5056     | 126388.8889 |\n",
      "| Wed (2021, 10, 27) | Tue (2021, 04, 27) | Wed (2021, 10, 27) |     183      |     0.5083     | 127083.3333 |\n",
      "| Wed (2022, 04, 27) | Wed (2021, 10, 27) | Wed (2022, 04, 27) |     182      |     0.5056     | 126388.8889 |\n",
      "| Thu (2022, 10, 27) | Wed (2022, 04, 27) | Thu (2022, 10, 27) |     183      |     0.5083     | 127083.3333 |\n",
      "| Thu (2023, 04, 27) | Thu (2022, 10, 27) | Thu (2023, 04, 27) |     182      |     0.5056     | 126388.8889 |\n",
      "| Fri (2023, 10, 27) | Thu (2023, 04, 27) | Fri (2023, 10, 27) |     183      |     0.5083     | 127083.3333 |\n",
      "| Mon (2024, 04, 29) | Fri (2023, 10, 27) | Mon (2024, 04, 29) |     185      |     0.5139     | 128472.2222 |\n",
      "| Mon (2024, 10, 28) | Mon (2024, 04, 29) | Mon (2024, 10, 28) |     182      |     0.5056     | 126388.8889 |\n",
      "| Mon (2025, 04, 28) | Mon (2024, 10, 28) | Mon (2025, 04, 28) |     182      |     0.5056     | 126388.8889 |\n",
      "| Mon (2025, 10, 27) | Mon (2025, 04, 28) | Mon (2025, 10, 27) |     182      |     0.5056     | 126388.8889 |\n",
      "+--------------------+--------------------+--------------------+--------------+----------------+-------------+\n"
     ]
    }
   ],
   "source": [
    "fixed_leg.print_cashflows()"
   ]
  },
  {
   "cell_type": "code",
   "execution_count": 4,
   "metadata": {},
   "outputs": [
    {
     "data": {
      "text/plain": [
       "+---------------+--------------------------------------+\n",
       "| Attribute     |                                Value |\n",
       "+---------------+--------------------------------------+\n",
       "| INSTRUMENT    |                       SWAP_FIXED_LEG |\n",
       "| START_DATE    |                   Tue (2015, 10, 27) |\n",
       "| MATURITY_DATE |                   Mon (2025, 10, 27) |\n",
       "| COUPON_RATE   |                                0.025 |\n",
       "| NOTIONAL      |                             10000000 |\n",
       "| PRINCIPAL     |                                  0.0 |\n",
       "| PAYMENT_LAG   |                                    0 |\n",
       "| FREQUENCY     |           FrequencyTypes.SEMI_ANNUAL |\n",
       "| DAY_COUNT     |                DayCountTypes.ACT_360 |\n",
       "| CALENDAR      |          CalendarTypes.UNITED_STATES |\n",
       "| BUS_DAY_ADJ   | BusDayAdjustTypes.MODIFIED_FOLLOWING |\n",
       "| DATE_GEN_RULE |             DateGenRuleTypes.FORWARD |\n",
       "+---------------+--------------------------------------+"
      ]
     },
     "execution_count": 4,
     "metadata": {},
     "output_type": "execute_result"
    }
   ],
   "source": [
    "fixed_leg"
   ]
  },
  {
   "cell_type": "code",
   "execution_count": 5,
   "metadata": {},
   "outputs": [
    {
     "data": {
      "text/plain": [
       "2407604.0691161873"
      ]
     },
     "execution_count": 5,
     "metadata": {},
     "output_type": "execute_result"
    }
   ],
   "source": [
    "fixed_leg.value(valuation_date=Date(2015, 10, 20), discount_curve=DummyCurve(rate=1e-2))"
   ]
  },
  {
   "cell_type": "code",
   "execution_count": 6,
   "metadata": {},
   "outputs": [
    {
     "name": "stdout",
     "output_type": "stream",
     "text": [
      "+--------------------+--------------------+--------------------+--------------+----------------+-------------+---------+--------+-------------+--------------+\n",
      "|    PAYMENT_DATE    |   ACCRUAL_START    |    ACCRUAL_END     | ACCRUAL_DAYS | ACCRUAL_FACTOR |   CASHFLOW  |    DT   |   DF   |      PV     |    CUM_PV    |\n",
      "+--------------------+--------------------+--------------------+--------------+----------------+-------------+---------+--------+-------------+--------------+\n",
      "| Wed (2016, 04, 27) | Tue (2015, 10, 27) | Wed (2016, 04, 27) |     183      |     0.5083     | 127083.3333 |  0.5197 | 0.9948 | 126424.6297 | 126424.6297  |\n",
      "| Thu (2016, 10, 27) | Wed (2016, 04, 27) | Thu (2016, 10, 27) |     183      |     0.5083     | 127083.3333 |  1.0197 | 0.9899 | 125794.0842 | 252218.7139  |\n",
      "| Thu (2017, 04, 27) | Thu (2016, 10, 27) | Thu (2017, 04, 27) |     182      |     0.5056     | 126388.8889 |  1.5178 | 0.9849 | 124485.0329 | 376703.7469  |\n",
      "| Fri (2017, 10, 27) | Thu (2017, 04, 27) | Fri (2017, 10, 27) |     183      |     0.5083     | 127083.3333 |  2.0192 | 0.9800 | 124543.0275 | 501246.7743  |\n",
      "| Fri (2018, 04, 27) | Fri (2017, 10, 27) | Fri (2018, 04, 27) |     182      |     0.5056     | 126388.8889 |  2.5178 | 0.9751 | 123246.3862 | 624493.1605  |\n",
      "| Mon (2018, 10, 29) | Fri (2018, 04, 27) | Mon (2018, 10, 29) |     185      |     0.5139     | 128472.2222 |  3.0247 | 0.9702 | 124644.5562 | 749137.7167  |\n",
      "| Mon (2019, 04, 29) | Mon (2018, 10, 29) | Mon (2019, 04, 29) |     182      |     0.5056     | 126388.8889 |  3.5233 | 0.9654 | 122013.3783 | 871151.0950  |\n",
      "| Mon (2019, 10, 28) | Mon (2019, 04, 29) | Mon (2019, 10, 28) |     182      |     0.5056     | 126388.8889 |  4.0219 | 0.9606 | 121406.4971 | 992557.5921  |\n",
      "| Mon (2020, 04, 27) | Mon (2019, 10, 28) | Mon (2020, 04, 27) |     182      |     0.5056     | 126388.8889 |  4.5197 | 0.9558 | 120803.6925 | 1113361.2846 |\n",
      "| Tue (2020, 10, 27) | Mon (2020, 04, 27) | Tue (2020, 10, 27) |     183      |     0.5083     | 127083.3333 |  5.0197 | 0.9510 | 120861.6276 | 1234222.9122 |\n",
      "| Tue (2021, 04, 27) | Tue (2020, 10, 27) | Tue (2021, 04, 27) |     182      |     0.5056     | 126388.8889 |  5.5178 | 0.9463 | 119603.9050 | 1353826.8172 |\n",
      "| Wed (2021, 10, 27) | Tue (2021, 04, 27) | Wed (2021, 10, 27) |     183      |     0.5083     | 127083.3333 |  6.0192 | 0.9416 | 119659.6255 | 1473486.4427 |\n",
      "| Wed (2022, 04, 27) | Wed (2021, 10, 27) | Wed (2022, 04, 27) |     182      |     0.5056     | 126388.8889 |  6.5178 | 0.9369 | 118413.8262 | 1591900.2690 |\n",
      "| Thu (2022, 10, 27) | Wed (2022, 04, 27) | Thu (2022, 10, 27) |     183      |     0.5083     | 127083.3333 |  7.0192 | 0.9322 | 118468.9924 | 1710369.2613 |\n",
      "| Thu (2023, 04, 27) | Thu (2022, 10, 27) | Thu (2023, 04, 27) |     182      |     0.5056     | 126388.8889 |  7.5178 | 0.9276 | 117235.5890 | 1827604.8503 |\n",
      "| Fri (2023, 10, 27) | Thu (2023, 04, 27) | Fri (2023, 10, 27) |     183      |     0.5083     | 127083.3333 |  8.0192 | 0.9229 | 117290.2062 | 1944895.0565 |\n",
      "| Mon (2024, 04, 29) | Fri (2023, 10, 27) | Mon (2024, 04, 29) |     185      |     0.5139     | 128472.2222 |  8.5251 | 0.9183 | 117973.6560 | 2062868.7125 |\n",
      "| Mon (2024, 10, 28) | Mon (2024, 04, 29) | Mon (2024, 10, 28) |     182      |     0.5056     | 126388.8889 |  9.0224 | 0.9137 | 115484.8705 | 2178353.5830 |\n",
      "| Mon (2025, 04, 28) | Mon (2024, 10, 28) | Mon (2025, 04, 28) |     182      |     0.5056     | 126388.8889 |  9.5205 | 0.9092 | 114911.0205 | 2293264.6034 |\n",
      "| Mon (2025, 10, 27) | Mon (2025, 04, 28) | Mon (2025, 10, 27) |     182      |     0.5056     | 126388.8889 | 10.0192 | 0.9047 | 114339.4657 | 2407604.0691 |\n",
      "+--------------------+--------------------+--------------------+--------------+----------------+-------------+---------+--------+-------------+--------------+\n"
     ]
    }
   ],
   "source": [
    "fixed_leg.print_valuation()"
   ]
  },
  {
   "attachments": {},
   "cell_type": "markdown",
   "metadata": {},
   "source": [
    "## Floating Leg Implementation"
   ]
  },
  {
   "cell_type": "code",
   "execution_count": 7,
   "metadata": {},
   "outputs": [],
   "source": [
    "from finpricing.utils.date import Date\n",
    "from finpricing.utils.day_count import DayCountTypes\n",
    "from finpricing.utils.frequency import FrequencyTypes\n",
    "from finpricing.utils.calendar import CalendarTypes, DateGenRuleTypes\n",
    "from finpricing.utils.bus_day_adj import BusDayAdjustTypes\n",
    "from finpricing.utils.literal import Literal\n",
    "from finpricing.instrument.swap_float_leg import SwapFloatLeg\n",
    "from finpricing.market.dummy_curve import DummyCurve"
   ]
  },
  {
   "cell_type": "code",
   "execution_count": 8,
   "metadata": {},
   "outputs": [],
   "source": [
    "float_leg = SwapFloatLeg(start_date=Date(2015, 10, 27),\n",
    "                         maturity_date_or_tenor=\"10Y\",\n",
    "                         spread=0.004,\n",
    "                         notional=10 * Literal.ONE_MILLION.value,\n",
    "                         freq_type=FrequencyTypes.QUARTERLY,\n",
    "                         day_count_type=DayCountTypes.ACT_360,\n",
    "                         calendar_type=CalendarTypes.UNITED_STATES,\n",
    "                         bus_day_adj_type=BusDayAdjustTypes.MODIFIED_FOLLOWING,\n",
    "                         date_gen_rule_type=DateGenRuleTypes.FORWARD)\n"
   ]
  },
  {
   "cell_type": "code",
   "execution_count": 9,
   "metadata": {},
   "outputs": [],
   "source": [
    "valuation_date = Date(2015, 10, 20)\n",
    "index_curve = DummyCurve(valuation_date=valuation_date, rate=0.02)\n",
    "discount_curve = DummyCurve(valuation_date=valuation_date, rate=0.01)"
   ]
  },
  {
   "cell_type": "code",
   "execution_count": 10,
   "metadata": {},
   "outputs": [
    {
     "data": {
      "text/plain": [
       "2319022.4074340872"
      ]
     },
     "execution_count": 10,
     "metadata": {},
     "output_type": "execute_result"
    }
   ],
   "source": [
    "float_leg.value(valuation_date, discount_curve, index_curve)"
   ]
  },
  {
   "cell_type": "code",
   "execution_count": 11,
   "metadata": {},
   "outputs": [
    {
     "name": "stdout",
     "output_type": "stream",
     "text": [
      "+--------------------+--------------------+--------------------+--------------+----------------+------------+------------+---------+--------+------------+--------------+\n",
      "|    PAYMENT_DATE    |   ACCRUAL_START    |    ACCRUAL_END     | ACCRUAL_DAYS | ACCRUAL_FACTOR | FLOAT_RATE |  CASHFLOW  |    DT   |   DF   |     PV     |    CUM_PV    |\n",
      "+--------------------+--------------------+--------------------+--------------+----------------+------------+------------+---------+--------+------------+--------------+\n",
      "| Wed (2016, 01, 27) | Tue (2015, 10, 27) | Wed (2016, 01, 27) |      92      |     0.2556     |   0.0241   | 61462.2783 |  0.2710 | 0.9973 | 61295.9175 |  61295.9175  |\n",
      "| Wed (2016, 04, 27) | Wed (2016, 01, 27) | Wed (2016, 04, 27) |      91      |     0.2528     |   0.0240   | 60792.5735 |  0.5197 | 0.9948 | 60477.4709 | 121773.3885  |\n",
      "| Wed (2016, 07, 27) | Wed (2016, 04, 27) | Wed (2016, 07, 27) |      91      |     0.2528     |   0.0240   | 60792.5735 |  0.7683 | 0.9923 | 60327.2902 | 182100.6787  |\n",
      "| Thu (2016, 10, 27) | Wed (2016, 07, 27) | Thu (2016, 10, 27) |      92      |     0.2556     |   0.0241   | 61462.0249 |  1.0197 | 0.9899 | 60838.4981 | 242939.1768  |\n",
      "| Fri (2017, 01, 27) | Thu (2016, 10, 27) | Fri (2017, 01, 27) |      92      |     0.2556     |   0.0241   | 61462.1247 |  1.2712 | 0.9874 | 60685.7433 | 303624.9201  |\n",
      "| Thu (2017, 04, 27) | Fri (2017, 01, 27) | Thu (2017, 04, 27) |      90      |     0.2500     |   0.0240   | 60123.4906 |  1.5178 | 0.9849 | 59217.8218 | 362842.7419  |\n",
      "| Thu (2017, 07, 27) | Thu (2017, 04, 27) | Thu (2017, 07, 27) |      91      |     0.2528     |   0.0240   | 60792.9190 |  1.7671 | 0.9825 | 59728.0695 | 422570.8114  |\n",
      "| Fri (2017, 10, 27) | Thu (2017, 07, 27) | Fri (2017, 10, 27) |      92      |     0.2556     |   0.0241   | 61462.3781 |  2.0192 | 0.9800 | 60233.7887 | 482804.6001  |\n",
      "| Mon (2018, 01, 29) | Fri (2017, 10, 27) | Mon (2018, 01, 29) |      94      |     0.2611     |   0.0241   | 62801.3880 |  2.2767 | 0.9775 | 61387.7345 | 544192.3346  |\n",
      "| Fri (2018, 04, 27) | Mon (2018, 01, 29) | Fri (2018, 04, 27) |      88      |     0.2444     |   0.0240   | 58784.7254 |  2.5178 | 0.9751 | 57323.1163 | 601515.4509  |\n",
      "| Fri (2018, 07, 27) | Fri (2018, 04, 27) | Fri (2018, 07, 27) |      91      |     0.2528     |   0.0240   | 60792.9190 |  2.7671 | 0.9727 | 59133.7653 | 660649.2162  |\n",
      "| Mon (2018, 10, 29) | Fri (2018, 07, 27) | Mon (2018, 10, 29) |      94      |     0.2611     |   0.0241   | 62801.3880 |  3.0247 | 0.9702 | 60930.3007 | 721579.5169  |\n",
      "| Mon (2019, 01, 28) | Mon (2018, 10, 29) | Mon (2019, 01, 28) |      91      |     0.2528     |   0.0240   | 60792.9190 |  3.2740 | 0.9678 | 58834.8045 | 780414.3214  |\n",
      "| Mon (2019, 04, 29) | Mon (2019, 01, 28) | Mon (2019, 04, 29) |      91      |     0.2528     |   0.0240   | 60792.9190 |  3.5233 | 0.9654 | 58688.3032 | 839102.6246  |\n",
      "| Mon (2019, 07, 29) | Mon (2019, 04, 29) | Mon (2019, 07, 29) |      91      |     0.2528     |   0.0240   | 60792.9190 |  3.7726 | 0.9630 | 58542.1666 | 897644.7912  |\n",
      "| Mon (2019, 10, 28) | Mon (2019, 07, 29) | Mon (2019, 10, 28) |      91      |     0.2528     |   0.0240   | 60792.9190 |  4.0219 | 0.9606 | 58396.3940 | 956041.1852  |\n",
      "| Mon (2020, 01, 27) | Mon (2019, 10, 28) | Mon (2020, 01, 27) |      91      |     0.2528     |   0.0240   | 60792.8203 |  4.2710 | 0.9582 | 58251.0031 | 1014292.1883 |\n",
      "| Mon (2020, 04, 27) | Mon (2020, 01, 27) | Mon (2020, 04, 27) |      91      |     0.2528     |   0.0240   | 60792.5735 |  4.5197 | 0.9558 | 58106.1154 | 1072398.3036 |\n",
      "| Mon (2020, 07, 27) | Mon (2020, 04, 27) | Mon (2020, 07, 27) |      91      |     0.2528     |   0.0240   | 60792.5735 |  4.7683 | 0.9534 | 57961.8233 | 1130360.1269 |\n",
      "| Tue (2020, 10, 27) | Mon (2020, 07, 27) | Tue (2020, 10, 27) |      92      |     0.2556     |   0.0241   | 61462.0249 |  5.0197 | 0.9510 | 58452.9865 | 1188813.1135 |\n",
      "| Wed (2021, 01, 27) | Tue (2020, 10, 27) | Wed (2021, 01, 27) |      92      |     0.2556     |   0.0241   | 61462.1247 |  5.2712 | 0.9487 | 58306.2212 | 1247119.3347 |\n",
      "| Tue (2021, 04, 27) | Wed (2021, 01, 27) | Tue (2021, 04, 27) |      90      |     0.2500     |   0.0240   | 60123.4906 |  5.5178 | 0.9463 | 56895.8578 | 1304015.1925 |\n",
      "| Tue (2021, 07, 27) | Tue (2021, 04, 27) | Tue (2021, 07, 27) |      91      |     0.2528     |   0.0240   | 60792.9190 |  5.7671 | 0.9440 | 57386.0984 | 1361401.2909 |\n",
      "| Wed (2021, 10, 27) | Tue (2021, 07, 27) | Wed (2021, 10, 27) |      92      |     0.2556     |   0.0241   | 61462.3781 |  6.0192 | 0.9416 | 57871.9880 | 1419273.2790 |\n",
      "| Thu (2022, 01, 27) | Wed (2021, 10, 27) | Thu (2022, 01, 27) |      92      |     0.2556     |   0.0241   | 61462.3781 |  6.2712 | 0.9392 | 57726.3026 | 1476999.5816 |\n",
      "| Wed (2022, 04, 27) | Thu (2022, 01, 27) | Wed (2022, 04, 27) |      90      |     0.2500     |   0.0240   | 60123.4906 |  6.5178 | 0.9369 | 56329.7346 | 1533329.3162 |\n",
      "| Wed (2022, 07, 27) | Wed (2022, 04, 27) | Wed (2022, 07, 27) |      91      |     0.2528     |   0.0240   | 60792.9190 |  6.7671 | 0.9346 | 56815.0972 | 1590144.4134 |\n",
      "| Thu (2022, 10, 27) | Wed (2022, 07, 27) | Thu (2022, 10, 27) |      92      |     0.2556     |   0.0241   | 61462.3781 |  7.0192 | 0.9322 | 57296.1521 | 1647440.5655 |\n",
      "| Fri (2023, 01, 27) | Thu (2022, 10, 27) | Fri (2023, 01, 27) |      92      |     0.2556     |   0.0241   | 61462.3781 |  7.2712 | 0.9299 | 57151.9163 | 1704592.4818 |\n",
      "| Thu (2023, 04, 27) | Fri (2023, 01, 27) | Thu (2023, 04, 27) |      90      |     0.2500     |   0.0240   | 60123.4906 |  7.5178 | 0.9276 | 55769.2444 | 1760361.7262 |\n",
      "| Thu (2023, 07, 27) | Thu (2023, 04, 27) | Thu (2023, 07, 27) |      91      |     0.2528     |   0.0240   | 60792.9190 |  7.7671 | 0.9253 | 56249.7775 | 1816611.5037 |\n",
      "| Fri (2023, 10, 27) | Thu (2023, 07, 27) | Fri (2023, 10, 27) |      92      |     0.2556     |   0.0241   | 61462.3781 |  8.0192 | 0.9229 | 56726.0459 | 1873337.5496 |\n",
      "| Mon (2024, 01, 29) | Fri (2023, 10, 27) | Mon (2024, 01, 29) |      94      |     0.2611     |   0.0241   | 62801.2781 |  8.2765 | 0.9206 | 57812.8112 | 1931150.3608 |\n",
      "| Mon (2024, 04, 29) | Mon (2024, 01, 29) | Mon (2024, 04, 29) |      91      |     0.2528     |   0.0240   | 60792.5735 |  8.5251 | 0.9183 | 55824.6914 | 1986975.0522 |\n",
      "| Mon (2024, 07, 29) | Mon (2024, 04, 29) | Mon (2024, 07, 29) |      91      |     0.2528     |   0.0240   | 60792.5735 |  8.7738 | 0.9160 | 55686.0647 | 2042661.1169 |\n",
      "| Mon (2024, 10, 28) | Mon (2024, 07, 29) | Mon (2024, 10, 28) |      91      |     0.2528     |   0.0240   | 60792.5735 |  9.0224 | 0.9137 | 55547.7822 | 2098208.8991 |\n",
      "| Mon (2025, 01, 27) | Mon (2024, 10, 28) | Mon (2025, 01, 27) |      91      |     0.2528     |   0.0240   | 60792.6722 |  9.2712 | 0.9115 | 55409.8253 | 2153618.7244 |\n",
      "| Mon (2025, 04, 28) | Mon (2025, 01, 27) | Mon (2025, 04, 28) |      91      |     0.2528     |   0.0240   | 60792.9190 |  9.5205 | 0.9092 | 55272.0767 | 2208890.8012 |\n",
      "| Mon (2025, 07, 28) | Mon (2025, 04, 28) | Mon (2025, 07, 28) |      91      |     0.2528     |   0.0240   | 60792.9190 |  9.7699 | 0.9069 | 55134.4468 | 2264025.2479 |\n",
      "| Mon (2025, 10, 27) | Mon (2025, 07, 28) | Mon (2025, 10, 27) |      91      |     0.2528     |   0.0240   | 60792.9190 | 10.0192 | 0.9047 | 54997.1595 | 2319022.4074 |\n",
      "+--------------------+--------------------+--------------------+--------------+----------------+------------+------------+---------+--------+------------+--------------+\n"
     ]
    }
   ],
   "source": [
    "float_leg.print_valuation()"
   ]
  },
  {
   "cell_type": "markdown",
   "metadata": {},
   "source": [
    "## Swap Implementation"
   ]
  },
  {
   "cell_type": "code",
   "execution_count": 1,
   "metadata": {},
   "outputs": [],
   "source": [
    "from finpricing.utils.date import Date\n",
    "from finpricing.utils.day_count import DayCountTypes\n",
    "from finpricing.utils.frequency import FrequencyTypes\n",
    "from finpricing.utils.calendar import CalendarTypes, DateGenRuleTypes\n",
    "from finpricing.utils.bus_day_adj import BusDayAdjustTypes\n",
    "from finpricing.utils.literal import Literal\n",
    "from finpricing.instrument.vanilla_swap import VanillaInterestRateSwap, SwapCounterpartyTypes\n",
    "from finpricing.market.dummy_curve import DummyCurve"
   ]
  },
  {
   "cell_type": "code",
   "execution_count": 2,
   "metadata": {},
   "outputs": [],
   "source": [
    "start_date = Date(2018, 6, 20)\n",
    "maturity_date = Date(2025, 9, 20)"
   ]
  },
  {
   "cell_type": "code",
   "execution_count": 3,
   "metadata": {},
   "outputs": [],
   "source": [
    "swap = VanillaInterestRateSwap(start_date=start_date,\n",
    "                               maturity_date_or_tenor=maturity_date,\n",
    "                               fixed_rate=0.05,\n",
    "                               float_spread=0.0,\n",
    "                               notional=10 * Literal.ONE_MILLION.value,\n",
    "                               counterparty_type=SwapCounterpartyTypes.FIXED_RATE_RECEIVER,\n",
    "                               fixed_freq_type=FrequencyTypes.ANNUAL,\n",
    "                               fixed_day_count_type=DayCountTypes.ACT_360,\n",
    "                               float_freq_type=FrequencyTypes.SEMI_ANNUAL,\n",
    "                               float_day_count_type=DayCountTypes.ACT_360,\n",
    "                               calendar_type=CalendarTypes.UNITED_STATES,\n",
    "                               bus_day_adj_type=BusDayAdjustTypes.FOLLOWING,\n",
    "                               date_gen_rule_type=DateGenRuleTypes.BACKWARD)\n"
   ]
  },
  {
   "cell_type": "code",
   "execution_count": 4,
   "metadata": {},
   "outputs": [],
   "source": [
    "valuation_date = Date(2020,3,20)\n",
    "discount_curve = DummyCurve(valuation_date=valuation_date, rate=0.05, freq_type=FrequencyTypes.SEMI_ANNUAL)\n",
    "index_curve = DummyCurve(valuation_date=valuation_date, rate=0.05, freq_type=FrequencyTypes.SEMI_ANNUAL)"
   ]
  },
  {
   "cell_type": "code",
   "execution_count": 6,
   "metadata": {},
   "outputs": [
    {
     "data": {
      "text/plain": [
       "219755.21155106276"
      ]
     },
     "execution_count": 6,
     "metadata": {},
     "output_type": "execute_result"
    }
   ],
   "source": [
    "swap.value(valuation_date, discount_curve, index_curve)"
   ]
  },
  {
   "cell_type": "code",
   "execution_count": 17,
   "metadata": {},
   "outputs": [
    {
     "data": {
      "text/plain": [
       "+---------------+-----------------------------+\n",
       "| Attribute     |                       Value |\n",
       "+---------------+-----------------------------+\n",
       "| INSTRUMENT    |              SWAP_FIXED_LEG |\n",
       "| START_DATE    |          Wed (2018, 06, 20) |\n",
       "| MATURITY_DATE |          Mon (2025, 09, 22) |\n",
       "| COUPON_RATE   |                        0.05 |\n",
       "| NOTIONAL      |                    10000000 |\n",
       "| PRINCIPAL     |                         0.0 |\n",
       "| PAYMENT_LAG   |                           0 |\n",
       "| FREQUENCY     |       FrequencyTypes.ANNUAL |\n",
       "| DAY_COUNT     |       DayCountTypes.ACT_360 |\n",
       "| CALENDAR      | CalendarTypes.UNITED_STATES |\n",
       "| BUS_DAY_ADJ   | BusDayAdjustTypes.FOLLOWING |\n",
       "| DATE_GEN_RULE |   DateGenRuleTypes.BACKWARD |\n",
       "+---------------+-----------------------------+"
      ]
     },
     "execution_count": 17,
     "metadata": {},
     "output_type": "execute_result"
    }
   ],
   "source": [
    "swap.fixed_leg"
   ]
  },
  {
   "cell_type": "code",
   "execution_count": 7,
   "metadata": {},
   "outputs": [
    {
     "name": "stdout",
     "output_type": "stream",
     "text": [
      "+--------------------+--------------------+--------------------+--------------+----------------+------------+-------------+---------+--------+-------------+--------------+\n",
      "|    PAYMENT_DATE    |   ACCRUAL_START    |    ACCRUAL_END     | ACCRUAL_DAYS | ACCRUAL_FACTOR | FLOAT_RATE |   CASHFLOW  |    DT   |   DF   |      PV     |    CUM_PV    |\n",
      "+--------------------+--------------------+--------------------+--------------+----------------+------------+-------------+---------+--------+-------------+--------------+\n",
      "| Thu (2018, 09, 20) | Wed (2018, 06, 20) | Thu (2018, 09, 20) |      92      |     0.2556     |   0.0497   | 126995.4527 | -1.4980 | 0.0000 |    0.0000   |    0.0000    |\n",
      "| Wed (2019, 03, 20) | Thu (2018, 09, 20) | Wed (2019, 03, 20) |     181      |     0.5028     |   0.0500   | 251363.2756 | -1.0021 | 0.0000 |    0.0000   |    0.0000    |\n",
      "| Fri (2019, 09, 20) | Wed (2019, 03, 20) | Fri (2019, 09, 20) |     184      |     0.5111     |   0.0500   | 255581.5969 | -0.4980 | 0.0000 |    0.0000   |    0.0000    |\n",
      "| Fri (2020, 03, 20) | Fri (2019, 09, 20) | Fri (2020, 03, 20) |     182      |     0.5056     |   0.0500   | 252765.4863 |  0.0000 | 0.0000 |    0.0000   |    0.0000    |\n",
      "| Mon (2020, 09, 21) | Fri (2020, 03, 20) | Mon (2020, 09, 21) |     185      |     0.5139     |   0.0500   | 256979.2604 |  0.5055 | 0.9753 | 250643.8245 | 250643.8245  |\n",
      "| Mon (2021, 03, 22) | Mon (2020, 09, 21) | Mon (2021, 03, 22) |     182      |     0.5056     |   0.0500   | 252764.4074 |  1.0033 | 0.9517 | 240545.2273 | 491189.0518  |\n",
      "| Mon (2021, 09, 20) | Mon (2021, 03, 22) | Mon (2021, 09, 20) |     182      |     0.5056     |   0.0500   | 252769.1924 |  1.5020 | 0.9285 | 234698.5903 | 725887.6420  |\n",
      "| Mon (2022, 03, 21) | Mon (2021, 09, 20) | Mon (2022, 03, 21) |     182      |     0.5056     |   0.0500   | 252769.1924 |  2.0006 | 0.9059 | 228989.7253 | 954877.3673  |\n",
      "| Tue (2022, 09, 20) | Mon (2022, 03, 21) | Tue (2022, 09, 20) |     183      |     0.5083     |   0.0500   | 254175.2996 |  2.5020 | 0.8838 | 224632.1704 | 1179509.5377 |\n",
      "| Mon (2023, 03, 20) | Tue (2022, 09, 20) | Mon (2023, 03, 20) |     181      |     0.5028     |   0.0500   | 251363.2756 |  2.9979 | 0.8624 | 216772.7626 | 1396282.3002 |\n",
      "| Wed (2023, 09, 20) | Mon (2023, 03, 20) | Wed (2023, 09, 20) |     184      |     0.5111     |   0.0500   | 255581.5969 |  3.5020 | 0.8412 | 214991.0881 | 1611273.3884 |\n",
      "| Wed (2024, 03, 20) | Wed (2023, 09, 20) | Wed (2024, 03, 20) |     182      |     0.5056     |   0.0500   | 252765.4863 |  4.0000 | 0.8207 | 207456.4061 | 1818729.7945 |\n",
      "| Fri (2024, 09, 20) | Wed (2024, 03, 20) | Fri (2024, 09, 20) |     184      |     0.5111     |   0.0500   | 255572.8686 |  4.5027 | 0.8006 | 204616.8331 | 2023346.6276 |\n",
      "| Thu (2025, 03, 20) | Fri (2024, 09, 20) | Thu (2025, 03, 20) |     181      |     0.5028     |   0.0500   | 251358.4706 |  4.9979 | 0.7813 | 196381.6699 | 2219728.2976 |\n",
      "| Mon (2025, 09, 22) | Thu (2025, 03, 20) | Mon (2025, 09, 22) |     186      |     0.5167     |   0.0500   | 258394.7626 |  5.5074 | 0.7619 | 196861.8680 | 2416590.1655 |\n",
      "+--------------------+--------------------+--------------------+--------------+----------------+------------+-------------+---------+--------+-------------+--------------+\n"
     ]
    }
   ],
   "source": [
    "swap.float_leg.print_valuation()"
   ]
  },
  {
   "cell_type": "code",
   "execution_count": 19,
   "metadata": {},
   "outputs": [
    {
     "name": "stdout",
     "output_type": "stream",
     "text": [
      "+--------------------+--------------------+--------------------+--------------+----------------+-------------+---------+--------+-------------+--------------+\n",
      "|    PAYMENT_DATE    |   ACCRUAL_START    |    ACCRUAL_END     | ACCRUAL_DAYS | ACCRUAL_FACTOR |   CASHFLOW  |    DT   |   DF   |      PV     |    CUM_PV    |\n",
      "+--------------------+--------------------+--------------------+--------------+----------------+-------------+---------+--------+-------------+--------------+\n",
      "| Thu (2018, 09, 20) | Wed (2018, 06, 20) | Thu (2018, 09, 20) |      92      |     0.2556     | 127777.7778 | -1.4980 | 0.0000 |    0.0000   |    0.0000    |\n",
      "| Fri (2019, 09, 20) | Thu (2018, 09, 20) | Fri (2019, 09, 20) |     365      |     1.0139     | 506944.4444 | -0.4980 | 0.0000 |    0.0000   |    0.0000    |\n",
      "| Mon (2020, 09, 21) | Fri (2019, 09, 20) | Mon (2020, 09, 21) |     367      |     1.0194     | 509722.2222 |  0.5055 | 0.9753 | 497155.7900 | 497155.7900  |\n",
      "| Mon (2021, 09, 20) | Mon (2020, 09, 21) | Mon (2021, 09, 20) |     364      |     1.0111     | 505555.5556 |  1.5020 | 0.9285 | 469413.1236 | 966568.9137  |\n",
      "| Tue (2022, 09, 20) | Mon (2021, 09, 20) | Tue (2022, 09, 20) |     365      |     1.0139     | 506944.4444 |  2.5020 | 0.8838 | 448021.6253 | 1414590.5390 |\n",
      "| Wed (2023, 09, 20) | Tue (2022, 09, 20) | Wed (2023, 09, 20) |     365      |     1.0139     | 506944.4444 |  3.5020 | 0.8412 | 426433.4328 | 1841023.9718 |\n",
      "| Fri (2024, 09, 20) | Wed (2023, 09, 20) | Fri (2024, 09, 20) |     366      |     1.0167     | 508333.3333 |  4.5027 | 0.8006 | 406981.9985 | 2248005.9703 |\n",
      "| Mon (2025, 09, 22) | Fri (2024, 09, 20) | Mon (2025, 09, 22) |     367      |     1.0194     | 509722.2222 |  5.5074 | 0.7619 | 388339.4068 | 2636345.3771 |\n",
      "+--------------------+--------------------+--------------------+--------------+----------------+-------------+---------+--------+-------------+--------------+\n"
     ]
    }
   ],
   "source": [
    "swap.fixed_leg.print_valuation()"
   ]
  },
  {
   "cell_type": "markdown",
   "metadata": {},
   "source": [
    "## Hash Test"
   ]
  },
  {
   "cell_type": "code",
   "execution_count": 20,
   "metadata": {},
   "outputs": [
    {
     "name": "stdout",
     "output_type": "stream",
     "text": [
      "HASH for float leg -7702755141838099907\n",
      "HASH for swap -8776440948283722267\n"
     ]
    },
    {
     "data": {
      "text/plain": [
       "2416590.1655450277"
      ]
     },
     "execution_count": 20,
     "metadata": {},
     "output_type": "execute_result"
    }
   ],
   "source": [
    "swap.float_leg._spread = 0.0\n",
    "print(\"HASH for float leg\", hash(swap.float_leg))\n",
    "print(\"HASH for swap\", hash(swap))\n",
    "swap.float_leg.value(valuation_date, discount_curve, index_curve)"
   ]
  },
  {
   "cell_type": "code",
   "execution_count": 21,
   "metadata": {},
   "outputs": [
    {
     "name": "stdout",
     "output_type": "stream",
     "text": [
      "HASH for float leg -2764863411939125166\n",
      "HASH for swap 765662768009918850\n"
     ]
    },
    {
     "data": {
      "text/plain": [
       "2899900.2507987297"
      ]
     },
     "execution_count": 21,
     "metadata": {},
     "output_type": "execute_result"
    }
   ],
   "source": [
    "swap.float_leg._spread = 0.01\n",
    "print(\"HASH for float leg\", hash(swap.float_leg))\n",
    "print(\"HASH for swap\", hash(swap))\n",
    "swap.float_leg.value(valuation_date, discount_curve, index_curve)"
   ]
  },
  {
   "cell_type": "markdown",
   "metadata": {},
   "source": [
    "## LRU Cache Test"
   ]
  },
  {
   "cell_type": "code",
   "execution_count": 22,
   "metadata": {},
   "outputs": [],
   "source": [
    "for _ in range(10):\n",
    "    swap.value(valuation_date, discount_curve, index_curve)"
   ]
  },
  {
   "cell_type": "code",
   "execution_count": 23,
   "metadata": {},
   "outputs": [
    {
     "data": {
      "text/plain": [
       "CacheInfo(hits=11, misses=3, maxsize=1, currsize=1)"
      ]
     },
     "execution_count": 23,
     "metadata": {},
     "output_type": "execute_result"
    }
   ],
   "source": [
    "swap.float_leg.value.cache_info()"
   ]
  },
  {
   "cell_type": "code",
   "execution_count": 24,
   "metadata": {},
   "outputs": [
    {
     "data": {
      "text/plain": [
       "CacheInfo(hits=10, misses=2, maxsize=1, currsize=1)"
      ]
     },
     "execution_count": 24,
     "metadata": {},
     "output_type": "execute_result"
    }
   ],
   "source": [
    "swap.fixed_leg.value.cache_info()"
   ]
  }
 ],
 "metadata": {
  "kernelspec": {
   "display_name": "Python 3",
   "language": "python",
   "name": "python3"
  },
  "language_info": {
   "codemirror_mode": {
    "name": "ipython",
    "version": 3
   },
   "file_extension": ".py",
   "mimetype": "text/x-python",
   "name": "python",
   "nbconvert_exporter": "python",
   "pygments_lexer": "ipython3",
   "version": "3.10.4"
  }
 },
 "nbformat": 4,
 "nbformat_minor": 2
}