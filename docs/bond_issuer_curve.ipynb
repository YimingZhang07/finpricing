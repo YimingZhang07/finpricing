{
 "cells": [
  {
   "cell_type": "code",
   "execution_count": 1,
   "metadata": {},
   "outputs": [],
   "source": [
    "import json\n",
    "import sys\n",
    "import os\n",
    "import datetime\n",
    "from finpricing.model import BondCurveAnalyticsHelper, BondCurveSolver\n",
    "from finpricing.market import SurvivalCurveStep, SurvivalCurveNelsonSiegel\n",
    "# for docs folder to lookf or tests\n",
    "sys.path.append(r'../tests')\n",
    "from testing_utils.read_data import get_sample_bonds_portfolio, get_sample_discount_curve"
   ]
  },
  {
   "cell_type": "code",
   "execution_count": 2,
   "metadata": {},
   "outputs": [],
   "source": [
    "bonds, dirty_prices = get_sample_bonds_portfolio()\n",
    "discount_curve = get_sample_discount_curve()\n",
    "valuation_date = datetime.date(2023, 10, 9)\n",
    "settlement_date = datetime.date(2023, 10, 11)"
   ]
  },
  {
   "cell_type": "code",
   "execution_count": 3,
   "metadata": {},
   "outputs": [
    {
     "name": "stdout",
     "output_type": "stream",
     "text": [
      "Fri (2024, 03, 01) 100.62719107573301\n",
      "Sat (2025, 02, 15) 102.85712222222223\n",
      "Sun (2025, 06, 15) 97.45796188119483\n",
      "Sun (2025, 06, 15) 97.45796188119483\n",
      "Sun (2026, 11, 15) 97.87555555555555\n",
      "Sat (2028, 04, 15) 98.73763333333333\n",
      "Wed (2028, 11, 15) 102.61128888888888\n",
      "Tue (2029, 05, 15) 104.84126718711933\n",
      "Thu (2029, 11, 15) 98.47593444444445\n",
      "Sat (2030, 06, 15) 95.09173333333334\n"
     ]
    }
   ],
   "source": [
    "for bond, dirty_price in zip(bonds, dirty_prices):\n",
    "    print(bond.maturity_date, dirty_price)"
   ]
  },
  {
   "cell_type": "code",
   "execution_count": 4,
   "metadata": {},
   "outputs": [
    {
     "data": {
      "text/plain": [
       "[0.0020111573135329487,\n",
       " 0.005341494775240267,\n",
       " 0.007553695931881768,\n",
       " 0.007553695931881768,\n",
       " 0.008962251418909613,\n",
       " 0.010159900495730808,\n",
       " 0.01030307821763447,\n",
       " 0.010973208439666463,\n",
       " 0.012124085181598864,\n",
       " 0.012556560524848905]"
      ]
     },
     "execution_count": 4,
     "metadata": {},
     "output_type": "execute_result"
    }
   ],
   "source": [
    "analyticsHelper = BondCurveAnalyticsHelper(bonds)\n",
    "analyticsHelper.discount_curves = discount_curve\n",
    "analyticsHelper.recovery_rates = 0.\n",
    "analyticsHelper.settlement_dates = settlement_date\n",
    "analyticsHelper.survival_curves = SurvivalCurveStep(anchor_date=valuation_date,\n",
    "                                                    dates = [valuation_date],\n",
    "                                                    hazard_rates=[0.],)\n",
    "analyticsHelper.get_bond_bases(\n",
    "    valuation_date=valuation_date,\n",
    "    dirty_prices=dirty_prices,\n",
    ")"
   ]
  },
  {
   "cell_type": "code",
   "execution_count": 5,
   "metadata": {},
   "outputs": [],
   "source": [
    "analyticsHelper.recovery_rates = 0.4\n",
    "analyticsHelper.survival_curves = SurvivalCurveNelsonSiegel(anchor_date=valuation_date,\n",
    "                                                            pivot_dates=[datetime.date(2025, 6, 15),\n",
    "                                                                         datetime.date(2029, 5, 15)])\n",
    "analyticsHelper.valuation_date = valuation_date\n",
    "\n",
    "bondCurveSolver = BondCurveSolver(\n",
    "    bondAnalyticsHelper = analyticsHelper\n",
    ")"
   ]
  },
  {
   "cell_type": "code",
   "execution_count": 6,
   "metadata": {},
   "outputs": [],
   "source": [
    "res = bondCurveSolver.solve(\n",
    "    dirty_prices=dirty_prices,\n",
    ")"
   ]
  },
  {
   "cell_type": "code",
   "execution_count": 7,
   "metadata": {},
   "outputs": [
    {
     "data": {
      "text/plain": [
       "(array([ 9.22536675e-05, -6.83825155e-02,  5.67154797e-02]), 2)"
      ]
     },
     "execution_count": 7,
     "metadata": {},
     "output_type": "execute_result"
    }
   ],
   "source": [
    "res"
   ]
  }
 ],
 "metadata": {
  "kernelspec": {
   "display_name": "Python 3",
   "language": "python",
   "name": "python3"
  },
  "language_info": {
   "codemirror_mode": {
    "name": "ipython",
    "version": 3
   },
   "file_extension": ".py",
   "mimetype": "text/x-python",
   "name": "python",
   "nbconvert_exporter": "python",
   "pygments_lexer": "ipython3",
   "version": "3.10.8"
  }
 },
 "nbformat": 4,
 "nbformat_minor": 2
}
